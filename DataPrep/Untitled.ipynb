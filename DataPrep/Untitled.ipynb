{
 "cells": [
  {
   "cell_type": "markdown",
   "metadata": {},
   "source": [
    "This is the analysis, cleaning and implementation of a Wide & Deep Neaural Network on Wine Data.\n",
    "\n",
    "This project is implemented by David O'Neill, C157737551, DT211.\n"
   ]
  },
  {
   "cell_type": "raw",
   "metadata": {},
   "source": [
    "Here you can see all of the imports necessary for this section of the project. They include imports from the modules numpy, sklearn, oandas, matploblib, tensorflow, keras and more."
   ]
  },
  {
   "cell_type": "code",
   "execution_count": 4,
   "metadata": {},
   "outputs": [
    {
     "name": "stdout",
     "output_type": "stream",
     "text": [
      "[nltk_data] Downloading package stopwords to\n",
      "[nltk_data]     /Users/davidoneill/nltk_data...\n",
      "[nltk_data]   Package stopwords is already up-to-date!\n"
     ]
    },
    {
     "name": "stderr",
     "output_type": "stream",
     "text": [
      "/Users/davidoneill/anaconda3/lib/python3.6/site-packages/sklearn/ensemble/weight_boosting.py:29: DeprecationWarning: numpy.core.umath_tests is an internal NumPy module and should not be imported. It will be removed in a future NumPy release.\n",
      "  from numpy.core.umath_tests import inner1d\n",
      "/Users/davidoneill/anaconda3/lib/python3.6/site-packages/sklearn/cross_validation.py:41: DeprecationWarning: This module was deprecated in version 0.18 in favor of the model_selection module into which all the refactored classes and functions are moved. Also note that the interface of the new CV iterators are different from that of this module. This module will be removed in 0.20.\n",
      "  \"This module will be removed in 0.20.\", DeprecationWarning)\n",
      "/Users/davidoneill/anaconda3/lib/python3.6/site-packages/h5py/__init__.py:36: FutureWarning: Conversion of the second argument of issubdtype from `float` to `np.floating` is deprecated. In future, it will be treated as `np.float64 == np.dtype(float).type`.\n",
      "  from ._conv import register_converters as _register_converters\n",
      "/Users/davidoneill/anaconda3/lib/python3.6/site-packages/requests/__init__.py:80: RequestsDependencyWarning: urllib3 (1.24.1) or chardet (3.0.4) doesn't match a supported version!\n",
      "  RequestsDependencyWarning)\n",
      "Using TensorFlow backend.\n"
     ]
    }
   ],
   "source": [
    "import numpy as np \n",
    "import pandas as pd \n",
    "import seaborn as sns\n",
    "import matplotlib.pyplot as plt\n",
    "from sklearn import model_selection\n",
    "from nltk.corpus import stopwords\n",
    "import nltk\n",
    "nltk.download('stopwords')\n",
    "from nltk.stem.porter import PorterStemmer \n",
    "import re \n",
    "from sklearn import model_selection, preprocessing, linear_model, naive_bayes, metrics, svm\n",
    "from sklearn.feature_extraction.text import TfidfVectorizer, CountVectorizer\n",
    "from sklearn import decomposition, ensemble\n",
    "from textblob import TextBlob\n",
    "from sklearn.cross_validation import train_test_split\n",
    "from sklearn.linear_model import LogisticRegression\n",
    "from scipy.sparse import hstack\n",
    "from sklearn import preprocessing\n",
    "from collections import OrderedDict\n",
    "from operator import itemgetter\n",
    "import os\n",
    "import tensorflow as tf\n",
    "\n",
    "\n",
    "from sklearn.preprocessing import LabelEncoder, MinMaxScaler\n",
    "\n",
    "from tensorflow import keras\n",
    "layers = keras.layers\n",
    "import missingno as msno\n",
    "from keras.models import load_model\n",
    "import pickle\n",
    "import sys\n",
    "from ipywidgets import interact\n",
    "from ipywidgets import widgets"
   ]
  },
  {
   "cell_type": "markdown",
   "metadata": {},
   "source": [
    "To start we have to read in our original datset of wine reviews."
   ]
  },
  {
   "cell_type": "code",
   "execution_count": 116,
   "metadata": {},
   "outputs": [],
   "source": [
    "data = pd.read_csv('./data/winedata_original.csv', index_col=[0])"
   ]
  },
  {
   "cell_type": "markdown",
   "metadata": {},
   "source": [
    "Next we have to look at the first 5 rows of data and as we can see alreay there is a lot of NaN values that will will ahve to take care of. We can also see that this dataset does not have the ageof the wines but I noticed that each title has the year of production in it so we can remove that and subtract it from the current year to get a rough idea of the age of a wine."
   ]
  },
  {
   "cell_type": "code",
   "execution_count": 117,
   "metadata": {},
   "outputs": [
    {
     "data": {
      "text/html": [
       "<div>\n",
       "<style scoped>\n",
       "    .dataframe tbody tr th:only-of-type {\n",
       "        vertical-align: middle;\n",
       "    }\n",
       "\n",
       "    .dataframe tbody tr th {\n",
       "        vertical-align: top;\n",
       "    }\n",
       "\n",
       "    .dataframe thead th {\n",
       "        text-align: right;\n",
       "    }\n",
       "</style>\n",
       "<table border=\"1\" class=\"dataframe\">\n",
       "  <thead>\n",
       "    <tr style=\"text-align: right;\">\n",
       "      <th></th>\n",
       "      <th>country</th>\n",
       "      <th>description</th>\n",
       "      <th>designation</th>\n",
       "      <th>points</th>\n",
       "      <th>price</th>\n",
       "      <th>province</th>\n",
       "      <th>region_1</th>\n",
       "      <th>region_2</th>\n",
       "      <th>taster_name</th>\n",
       "      <th>taster_twitter_handle</th>\n",
       "      <th>title</th>\n",
       "      <th>variety</th>\n",
       "      <th>winery</th>\n",
       "    </tr>\n",
       "  </thead>\n",
       "  <tbody>\n",
       "    <tr>\n",
       "      <th>0</th>\n",
       "      <td>Italy</td>\n",
       "      <td>Aromas include tropical fruit, broom, brimston...</td>\n",
       "      <td>Vulkà Bianco</td>\n",
       "      <td>87</td>\n",
       "      <td>NaN</td>\n",
       "      <td>Sicily &amp; Sardinia</td>\n",
       "      <td>Etna</td>\n",
       "      <td>NaN</td>\n",
       "      <td>Kerin O’Keefe</td>\n",
       "      <td>@kerinokeefe</td>\n",
       "      <td>Nicosia 2013 Vulkà Bianco  (Etna)</td>\n",
       "      <td>White Blend</td>\n",
       "      <td>Nicosia</td>\n",
       "    </tr>\n",
       "    <tr>\n",
       "      <th>1</th>\n",
       "      <td>Portugal</td>\n",
       "      <td>This is ripe and fruity, a wine that is smooth...</td>\n",
       "      <td>Avidagos</td>\n",
       "      <td>87</td>\n",
       "      <td>15.0</td>\n",
       "      <td>Douro</td>\n",
       "      <td>NaN</td>\n",
       "      <td>NaN</td>\n",
       "      <td>Roger Voss</td>\n",
       "      <td>@vossroger</td>\n",
       "      <td>Quinta dos Avidagos 2011 Avidagos Red (Douro)</td>\n",
       "      <td>Portuguese Red</td>\n",
       "      <td>Quinta dos Avidagos</td>\n",
       "    </tr>\n",
       "    <tr>\n",
       "      <th>2</th>\n",
       "      <td>US</td>\n",
       "      <td>Tart and snappy, the flavors of lime flesh and...</td>\n",
       "      <td>NaN</td>\n",
       "      <td>87</td>\n",
       "      <td>14.0</td>\n",
       "      <td>Oregon</td>\n",
       "      <td>Willamette Valley</td>\n",
       "      <td>Willamette Valley</td>\n",
       "      <td>Paul Gregutt</td>\n",
       "      <td>@paulgwine</td>\n",
       "      <td>Rainstorm 2013 Pinot Gris (Willamette Valley)</td>\n",
       "      <td>Pinot Gris</td>\n",
       "      <td>Rainstorm</td>\n",
       "    </tr>\n",
       "    <tr>\n",
       "      <th>3</th>\n",
       "      <td>US</td>\n",
       "      <td>Pineapple rind, lemon pith and orange blossom ...</td>\n",
       "      <td>Reserve Late Harvest</td>\n",
       "      <td>87</td>\n",
       "      <td>13.0</td>\n",
       "      <td>Michigan</td>\n",
       "      <td>Lake Michigan Shore</td>\n",
       "      <td>NaN</td>\n",
       "      <td>Alexander Peartree</td>\n",
       "      <td>NaN</td>\n",
       "      <td>St. Julian 2013 Reserve Late Harvest Riesling ...</td>\n",
       "      <td>Riesling</td>\n",
       "      <td>St. Julian</td>\n",
       "    </tr>\n",
       "    <tr>\n",
       "      <th>4</th>\n",
       "      <td>US</td>\n",
       "      <td>Much like the regular bottling from 2012, this...</td>\n",
       "      <td>Vintner's Reserve Wild Child Block</td>\n",
       "      <td>87</td>\n",
       "      <td>65.0</td>\n",
       "      <td>Oregon</td>\n",
       "      <td>Willamette Valley</td>\n",
       "      <td>Willamette Valley</td>\n",
       "      <td>Paul Gregutt</td>\n",
       "      <td>@paulgwine</td>\n",
       "      <td>Sweet Cheeks 2012 Vintner's Reserve Wild Child...</td>\n",
       "      <td>Pinot Noir</td>\n",
       "      <td>Sweet Cheeks</td>\n",
       "    </tr>\n",
       "  </tbody>\n",
       "</table>\n",
       "</div>"
      ],
      "text/plain": [
       "    country                                        description  \\\n",
       "0     Italy  Aromas include tropical fruit, broom, brimston...   \n",
       "1  Portugal  This is ripe and fruity, a wine that is smooth...   \n",
       "2        US  Tart and snappy, the flavors of lime flesh and...   \n",
       "3        US  Pineapple rind, lemon pith and orange blossom ...   \n",
       "4        US  Much like the regular bottling from 2012, this...   \n",
       "\n",
       "                          designation  points  price           province  \\\n",
       "0                        Vulkà Bianco      87    NaN  Sicily & Sardinia   \n",
       "1                            Avidagos      87   15.0              Douro   \n",
       "2                                 NaN      87   14.0             Oregon   \n",
       "3                Reserve Late Harvest      87   13.0           Michigan   \n",
       "4  Vintner's Reserve Wild Child Block      87   65.0             Oregon   \n",
       "\n",
       "              region_1           region_2         taster_name  \\\n",
       "0                 Etna                NaN       Kerin O’Keefe   \n",
       "1                  NaN                NaN          Roger Voss   \n",
       "2    Willamette Valley  Willamette Valley        Paul Gregutt   \n",
       "3  Lake Michigan Shore                NaN  Alexander Peartree   \n",
       "4    Willamette Valley  Willamette Valley        Paul Gregutt   \n",
       "\n",
       "  taster_twitter_handle                                              title  \\\n",
       "0          @kerinokeefe                  Nicosia 2013 Vulkà Bianco  (Etna)   \n",
       "1            @vossroger      Quinta dos Avidagos 2011 Avidagos Red (Douro)   \n",
       "2           @paulgwine       Rainstorm 2013 Pinot Gris (Willamette Valley)   \n",
       "3                   NaN  St. Julian 2013 Reserve Late Harvest Riesling ...   \n",
       "4           @paulgwine   Sweet Cheeks 2012 Vintner's Reserve Wild Child...   \n",
       "\n",
       "          variety               winery  \n",
       "0     White Blend              Nicosia  \n",
       "1  Portuguese Red  Quinta dos Avidagos  \n",
       "2      Pinot Gris            Rainstorm  \n",
       "3        Riesling           St. Julian  \n",
       "4      Pinot Noir         Sweet Cheeks  "
      ]
     },
     "execution_count": 117,
     "metadata": {},
     "output_type": "execute_result"
    }
   ],
   "source": [
    "data.head()"
   ]
  },
  {
   "cell_type": "raw",
   "metadata": {},
   "source": [
    "Here we set the column value, we remove the year from the title and then take that away from the current year of 2019 to get the age. We then show the head of the dataset again and we have a year column and an age column."
   ]
  },
  {
   "cell_type": "code",
   "execution_count": 118,
   "metadata": {},
   "outputs": [],
   "source": [
    "years = data.title.str.extract('([1-2][0-9]{3})').astype('float64')\n",
    "data = data.assign(year = years)"
   ]
  },
  {
   "cell_type": "code",
   "execution_count": 119,
   "metadata": {},
   "outputs": [],
   "source": [
    "data['Age'] = 2019 - data['year']"
   ]
  },
  {
   "cell_type": "code",
   "execution_count": 120,
   "metadata": {
    "scrolled": true
   },
   "outputs": [
    {
     "data": {
      "text/html": [
       "<div>\n",
       "<style scoped>\n",
       "    .dataframe tbody tr th:only-of-type {\n",
       "        vertical-align: middle;\n",
       "    }\n",
       "\n",
       "    .dataframe tbody tr th {\n",
       "        vertical-align: top;\n",
       "    }\n",
       "\n",
       "    .dataframe thead th {\n",
       "        text-align: right;\n",
       "    }\n",
       "</style>\n",
       "<table border=\"1\" class=\"dataframe\">\n",
       "  <thead>\n",
       "    <tr style=\"text-align: right;\">\n",
       "      <th></th>\n",
       "      <th>country</th>\n",
       "      <th>description</th>\n",
       "      <th>designation</th>\n",
       "      <th>points</th>\n",
       "      <th>price</th>\n",
       "      <th>province</th>\n",
       "      <th>region_1</th>\n",
       "      <th>region_2</th>\n",
       "      <th>taster_name</th>\n",
       "      <th>taster_twitter_handle</th>\n",
       "      <th>title</th>\n",
       "      <th>variety</th>\n",
       "      <th>winery</th>\n",
       "      <th>year</th>\n",
       "      <th>Age</th>\n",
       "    </tr>\n",
       "  </thead>\n",
       "  <tbody>\n",
       "    <tr>\n",
       "      <th>0</th>\n",
       "      <td>Italy</td>\n",
       "      <td>Aromas include tropical fruit, broom, brimston...</td>\n",
       "      <td>Vulkà Bianco</td>\n",
       "      <td>87</td>\n",
       "      <td>NaN</td>\n",
       "      <td>Sicily &amp; Sardinia</td>\n",
       "      <td>Etna</td>\n",
       "      <td>NaN</td>\n",
       "      <td>Kerin O’Keefe</td>\n",
       "      <td>@kerinokeefe</td>\n",
       "      <td>Nicosia 2013 Vulkà Bianco  (Etna)</td>\n",
       "      <td>White Blend</td>\n",
       "      <td>Nicosia</td>\n",
       "      <td>2013.0</td>\n",
       "      <td>6.0</td>\n",
       "    </tr>\n",
       "    <tr>\n",
       "      <th>1</th>\n",
       "      <td>Portugal</td>\n",
       "      <td>This is ripe and fruity, a wine that is smooth...</td>\n",
       "      <td>Avidagos</td>\n",
       "      <td>87</td>\n",
       "      <td>15.0</td>\n",
       "      <td>Douro</td>\n",
       "      <td>NaN</td>\n",
       "      <td>NaN</td>\n",
       "      <td>Roger Voss</td>\n",
       "      <td>@vossroger</td>\n",
       "      <td>Quinta dos Avidagos 2011 Avidagos Red (Douro)</td>\n",
       "      <td>Portuguese Red</td>\n",
       "      <td>Quinta dos Avidagos</td>\n",
       "      <td>2011.0</td>\n",
       "      <td>8.0</td>\n",
       "    </tr>\n",
       "    <tr>\n",
       "      <th>2</th>\n",
       "      <td>US</td>\n",
       "      <td>Tart and snappy, the flavors of lime flesh and...</td>\n",
       "      <td>NaN</td>\n",
       "      <td>87</td>\n",
       "      <td>14.0</td>\n",
       "      <td>Oregon</td>\n",
       "      <td>Willamette Valley</td>\n",
       "      <td>Willamette Valley</td>\n",
       "      <td>Paul Gregutt</td>\n",
       "      <td>@paulgwine</td>\n",
       "      <td>Rainstorm 2013 Pinot Gris (Willamette Valley)</td>\n",
       "      <td>Pinot Gris</td>\n",
       "      <td>Rainstorm</td>\n",
       "      <td>2013.0</td>\n",
       "      <td>6.0</td>\n",
       "    </tr>\n",
       "    <tr>\n",
       "      <th>3</th>\n",
       "      <td>US</td>\n",
       "      <td>Pineapple rind, lemon pith and orange blossom ...</td>\n",
       "      <td>Reserve Late Harvest</td>\n",
       "      <td>87</td>\n",
       "      <td>13.0</td>\n",
       "      <td>Michigan</td>\n",
       "      <td>Lake Michigan Shore</td>\n",
       "      <td>NaN</td>\n",
       "      <td>Alexander Peartree</td>\n",
       "      <td>NaN</td>\n",
       "      <td>St. Julian 2013 Reserve Late Harvest Riesling ...</td>\n",
       "      <td>Riesling</td>\n",
       "      <td>St. Julian</td>\n",
       "      <td>2013.0</td>\n",
       "      <td>6.0</td>\n",
       "    </tr>\n",
       "    <tr>\n",
       "      <th>4</th>\n",
       "      <td>US</td>\n",
       "      <td>Much like the regular bottling from 2012, this...</td>\n",
       "      <td>Vintner's Reserve Wild Child Block</td>\n",
       "      <td>87</td>\n",
       "      <td>65.0</td>\n",
       "      <td>Oregon</td>\n",
       "      <td>Willamette Valley</td>\n",
       "      <td>Willamette Valley</td>\n",
       "      <td>Paul Gregutt</td>\n",
       "      <td>@paulgwine</td>\n",
       "      <td>Sweet Cheeks 2012 Vintner's Reserve Wild Child...</td>\n",
       "      <td>Pinot Noir</td>\n",
       "      <td>Sweet Cheeks</td>\n",
       "      <td>2012.0</td>\n",
       "      <td>7.0</td>\n",
       "    </tr>\n",
       "  </tbody>\n",
       "</table>\n",
       "</div>"
      ],
      "text/plain": [
       "    country                                        description  \\\n",
       "0     Italy  Aromas include tropical fruit, broom, brimston...   \n",
       "1  Portugal  This is ripe and fruity, a wine that is smooth...   \n",
       "2        US  Tart and snappy, the flavors of lime flesh and...   \n",
       "3        US  Pineapple rind, lemon pith and orange blossom ...   \n",
       "4        US  Much like the regular bottling from 2012, this...   \n",
       "\n",
       "                          designation  points  price           province  \\\n",
       "0                        Vulkà Bianco      87    NaN  Sicily & Sardinia   \n",
       "1                            Avidagos      87   15.0              Douro   \n",
       "2                                 NaN      87   14.0             Oregon   \n",
       "3                Reserve Late Harvest      87   13.0           Michigan   \n",
       "4  Vintner's Reserve Wild Child Block      87   65.0             Oregon   \n",
       "\n",
       "              region_1           region_2         taster_name  \\\n",
       "0                 Etna                NaN       Kerin O’Keefe   \n",
       "1                  NaN                NaN          Roger Voss   \n",
       "2    Willamette Valley  Willamette Valley        Paul Gregutt   \n",
       "3  Lake Michigan Shore                NaN  Alexander Peartree   \n",
       "4    Willamette Valley  Willamette Valley        Paul Gregutt   \n",
       "\n",
       "  taster_twitter_handle                                              title  \\\n",
       "0          @kerinokeefe                  Nicosia 2013 Vulkà Bianco  (Etna)   \n",
       "1            @vossroger      Quinta dos Avidagos 2011 Avidagos Red (Douro)   \n",
       "2           @paulgwine       Rainstorm 2013 Pinot Gris (Willamette Valley)   \n",
       "3                   NaN  St. Julian 2013 Reserve Late Harvest Riesling ...   \n",
       "4           @paulgwine   Sweet Cheeks 2012 Vintner's Reserve Wild Child...   \n",
       "\n",
       "          variety               winery    year  Age  \n",
       "0     White Blend              Nicosia  2013.0  6.0  \n",
       "1  Portuguese Red  Quinta dos Avidagos  2011.0  8.0  \n",
       "2      Pinot Gris            Rainstorm  2013.0  6.0  \n",
       "3        Riesling           St. Julian  2013.0  6.0  \n",
       "4      Pinot Noir         Sweet Cheeks  2012.0  7.0  "
      ]
     },
     "execution_count": 120,
     "metadata": {},
     "output_type": "execute_result"
    }
   ],
   "source": [
    "data.head()"
   ]
  },
  {
   "cell_type": "markdown",
   "metadata": {},
   "source": [
    "We need to see what datatypes our in the dataset too.\n",
    "\n"
   ]
  },
  {
   "cell_type": "code",
   "execution_count": 121,
   "metadata": {},
   "outputs": [
    {
     "data": {
      "text/plain": [
       "float64     3\n",
       "int64       1\n",
       "object     11\n",
       "dtype: int64"
      ]
     },
     "execution_count": 121,
     "metadata": {},
     "output_type": "execute_result"
    }
   ],
   "source": [
    "data.get_dtype_counts()"
   ]
  },
  {
   "cell_type": "code",
   "execution_count": 122,
   "metadata": {
    "scrolled": true
   },
   "outputs": [
    {
     "data": {
      "text/plain": [
       "dtype('O')"
      ]
     },
     "execution_count": 122,
     "metadata": {},
     "output_type": "execute_result"
    }
   ],
   "source": [
    "data['variety'].dtype"
   ]
  },
  {
   "cell_type": "code",
   "execution_count": 123,
   "metadata": {},
   "outputs": [
    {
     "data": {
      "text/plain": [
       "pandas.core.frame.DataFrame"
      ]
     },
     "execution_count": 123,
     "metadata": {},
     "output_type": "execute_result"
    }
   ],
   "source": [
    "type(data)"
   ]
  },
  {
   "cell_type": "markdown",
   "metadata": {},
   "source": [
    "Also the shape of the dataset. 15 columns and 129971 rows.\n",
    "\n"
   ]
  },
  {
   "cell_type": "code",
   "execution_count": 124,
   "metadata": {},
   "outputs": [
    {
     "data": {
      "text/plain": [
       "(129971, 15)"
      ]
     },
     "execution_count": 124,
     "metadata": {},
     "output_type": "execute_result"
    }
   ],
   "source": [
    "data.shape "
   ]
  },
  {
   "cell_type": "markdown",
   "metadata": {},
   "source": [
    "We can use .info()  to see more information on the dataset.\n",
    "\n",
    "\n"
   ]
  },
  {
   "cell_type": "code",
   "execution_count": 125,
   "metadata": {},
   "outputs": [
    {
     "name": "stdout",
     "output_type": "stream",
     "text": [
      "<class 'pandas.core.frame.DataFrame'>\n",
      "Int64Index: 129971 entries, 0 to 129970\n",
      "Data columns (total 15 columns):\n",
      "country                  129908 non-null object\n",
      "description              129971 non-null object\n",
      "designation              92506 non-null object\n",
      "points                   129971 non-null int64\n",
      "price                    120975 non-null float64\n",
      "province                 129908 non-null object\n",
      "region_1                 108724 non-null object\n",
      "region_2                 50511 non-null object\n",
      "taster_name              103727 non-null object\n",
      "taster_twitter_handle    98758 non-null object\n",
      "title                    129971 non-null object\n",
      "variety                  129970 non-null object\n",
      "winery                   129971 non-null object\n",
      "year                     125362 non-null float64\n",
      "Age                      125362 non-null float64\n",
      "dtypes: float64(3), int64(1), object(11)\n",
      "memory usage: 15.9+ MB\n"
     ]
    }
   ],
   "source": [
    "data.info()"
   ]
  },
  {
   "cell_type": "code",
   "execution_count": null,
   "metadata": {},
   "outputs": [],
   "source": []
  },
  {
   "cell_type": "markdown",
   "metadata": {},
   "source": [
    "Below we can view the number of Null or NaN values in the dataset,although we won't be using many of the variables that have the higher null values there is some that we need with nulls and we will have to remove them."
   ]
  },
  {
   "cell_type": "code",
   "execution_count": 128,
   "metadata": {},
   "outputs": [
    {
     "data": {
      "text/plain": [
       "country                     63\n",
       "description                  0\n",
       "designation              37465\n",
       "points                       0\n",
       "price                     8996\n",
       "province                    63\n",
       "region_1                 21247\n",
       "region_2                 79460\n",
       "taster_name              26244\n",
       "taster_twitter_handle    31213\n",
       "title                        0\n",
       "variety                      1\n",
       "winery                       0\n",
       "year                      4609\n",
       "Age                       4609\n",
       "dtype: int64"
      ]
     },
     "execution_count": 128,
     "metadata": {},
     "output_type": "execute_result"
    }
   ],
   "source": [
    "data.isnull().sum()"
   ]
  },
  {
   "cell_type": "markdown",
   "metadata": {},
   "source": [
    "Here we can see the overwhelming Nan values when running .describe() but that is because the dataset is majoriity categorical variables.\n",
    "\n"
   ]
  },
  {
   "cell_type": "code",
   "execution_count": 129,
   "metadata": {
    "scrolled": false
   },
   "outputs": [
    {
     "data": {
      "text/html": [
       "<div>\n",
       "<style scoped>\n",
       "    .dataframe tbody tr th:only-of-type {\n",
       "        vertical-align: middle;\n",
       "    }\n",
       "\n",
       "    .dataframe tbody tr th {\n",
       "        vertical-align: top;\n",
       "    }\n",
       "\n",
       "    .dataframe thead th {\n",
       "        text-align: right;\n",
       "    }\n",
       "</style>\n",
       "<table border=\"1\" class=\"dataframe\">\n",
       "  <thead>\n",
       "    <tr style=\"text-align: right;\">\n",
       "      <th></th>\n",
       "      <th>count</th>\n",
       "      <th>unique</th>\n",
       "      <th>top</th>\n",
       "      <th>freq</th>\n",
       "      <th>mean</th>\n",
       "      <th>std</th>\n",
       "      <th>min</th>\n",
       "      <th>25%</th>\n",
       "      <th>50%</th>\n",
       "      <th>75%</th>\n",
       "      <th>max</th>\n",
       "    </tr>\n",
       "  </thead>\n",
       "  <tbody>\n",
       "    <tr>\n",
       "      <th>country</th>\n",
       "      <td>129908</td>\n",
       "      <td>43</td>\n",
       "      <td>US</td>\n",
       "      <td>54504</td>\n",
       "      <td>NaN</td>\n",
       "      <td>NaN</td>\n",
       "      <td>NaN</td>\n",
       "      <td>NaN</td>\n",
       "      <td>NaN</td>\n",
       "      <td>NaN</td>\n",
       "      <td>NaN</td>\n",
       "    </tr>\n",
       "    <tr>\n",
       "      <th>description</th>\n",
       "      <td>129971</td>\n",
       "      <td>119955</td>\n",
       "      <td>Ripe plum, game, truffle, leather and menthol ...</td>\n",
       "      <td>3</td>\n",
       "      <td>NaN</td>\n",
       "      <td>NaN</td>\n",
       "      <td>NaN</td>\n",
       "      <td>NaN</td>\n",
       "      <td>NaN</td>\n",
       "      <td>NaN</td>\n",
       "      <td>NaN</td>\n",
       "    </tr>\n",
       "    <tr>\n",
       "      <th>designation</th>\n",
       "      <td>92506</td>\n",
       "      <td>37979</td>\n",
       "      <td>Reserve</td>\n",
       "      <td>2009</td>\n",
       "      <td>NaN</td>\n",
       "      <td>NaN</td>\n",
       "      <td>NaN</td>\n",
       "      <td>NaN</td>\n",
       "      <td>NaN</td>\n",
       "      <td>NaN</td>\n",
       "      <td>NaN</td>\n",
       "    </tr>\n",
       "    <tr>\n",
       "      <th>points</th>\n",
       "      <td>129971</td>\n",
       "      <td>NaN</td>\n",
       "      <td>NaN</td>\n",
       "      <td>NaN</td>\n",
       "      <td>88.4471</td>\n",
       "      <td>3.03973</td>\n",
       "      <td>80</td>\n",
       "      <td>86</td>\n",
       "      <td>88</td>\n",
       "      <td>91</td>\n",
       "      <td>100</td>\n",
       "    </tr>\n",
       "    <tr>\n",
       "      <th>price</th>\n",
       "      <td>120975</td>\n",
       "      <td>NaN</td>\n",
       "      <td>NaN</td>\n",
       "      <td>NaN</td>\n",
       "      <td>35.3634</td>\n",
       "      <td>41.0222</td>\n",
       "      <td>4</td>\n",
       "      <td>17</td>\n",
       "      <td>25</td>\n",
       "      <td>42</td>\n",
       "      <td>3300</td>\n",
       "    </tr>\n",
       "    <tr>\n",
       "      <th>province</th>\n",
       "      <td>129908</td>\n",
       "      <td>425</td>\n",
       "      <td>California</td>\n",
       "      <td>36247</td>\n",
       "      <td>NaN</td>\n",
       "      <td>NaN</td>\n",
       "      <td>NaN</td>\n",
       "      <td>NaN</td>\n",
       "      <td>NaN</td>\n",
       "      <td>NaN</td>\n",
       "      <td>NaN</td>\n",
       "    </tr>\n",
       "    <tr>\n",
       "      <th>region_1</th>\n",
       "      <td>108724</td>\n",
       "      <td>1229</td>\n",
       "      <td>Napa Valley</td>\n",
       "      <td>4480</td>\n",
       "      <td>NaN</td>\n",
       "      <td>NaN</td>\n",
       "      <td>NaN</td>\n",
       "      <td>NaN</td>\n",
       "      <td>NaN</td>\n",
       "      <td>NaN</td>\n",
       "      <td>NaN</td>\n",
       "    </tr>\n",
       "    <tr>\n",
       "      <th>region_2</th>\n",
       "      <td>50511</td>\n",
       "      <td>17</td>\n",
       "      <td>Central Coast</td>\n",
       "      <td>11065</td>\n",
       "      <td>NaN</td>\n",
       "      <td>NaN</td>\n",
       "      <td>NaN</td>\n",
       "      <td>NaN</td>\n",
       "      <td>NaN</td>\n",
       "      <td>NaN</td>\n",
       "      <td>NaN</td>\n",
       "    </tr>\n",
       "    <tr>\n",
       "      <th>taster_name</th>\n",
       "      <td>103727</td>\n",
       "      <td>19</td>\n",
       "      <td>Roger Voss</td>\n",
       "      <td>25514</td>\n",
       "      <td>NaN</td>\n",
       "      <td>NaN</td>\n",
       "      <td>NaN</td>\n",
       "      <td>NaN</td>\n",
       "      <td>NaN</td>\n",
       "      <td>NaN</td>\n",
       "      <td>NaN</td>\n",
       "    </tr>\n",
       "    <tr>\n",
       "      <th>taster_twitter_handle</th>\n",
       "      <td>98758</td>\n",
       "      <td>15</td>\n",
       "      <td>@vossroger</td>\n",
       "      <td>25514</td>\n",
       "      <td>NaN</td>\n",
       "      <td>NaN</td>\n",
       "      <td>NaN</td>\n",
       "      <td>NaN</td>\n",
       "      <td>NaN</td>\n",
       "      <td>NaN</td>\n",
       "      <td>NaN</td>\n",
       "    </tr>\n",
       "    <tr>\n",
       "      <th>title</th>\n",
       "      <td>129971</td>\n",
       "      <td>118840</td>\n",
       "      <td>Gloria Ferrer NV Sonoma Brut Sparkling (Sonoma...</td>\n",
       "      <td>11</td>\n",
       "      <td>NaN</td>\n",
       "      <td>NaN</td>\n",
       "      <td>NaN</td>\n",
       "      <td>NaN</td>\n",
       "      <td>NaN</td>\n",
       "      <td>NaN</td>\n",
       "      <td>NaN</td>\n",
       "    </tr>\n",
       "    <tr>\n",
       "      <th>variety</th>\n",
       "      <td>129970</td>\n",
       "      <td>707</td>\n",
       "      <td>Pinot Noir</td>\n",
       "      <td>13272</td>\n",
       "      <td>NaN</td>\n",
       "      <td>NaN</td>\n",
       "      <td>NaN</td>\n",
       "      <td>NaN</td>\n",
       "      <td>NaN</td>\n",
       "      <td>NaN</td>\n",
       "      <td>NaN</td>\n",
       "    </tr>\n",
       "    <tr>\n",
       "      <th>winery</th>\n",
       "      <td>129971</td>\n",
       "      <td>16757</td>\n",
       "      <td>Wines &amp; Winemakers</td>\n",
       "      <td>222</td>\n",
       "      <td>NaN</td>\n",
       "      <td>NaN</td>\n",
       "      <td>NaN</td>\n",
       "      <td>NaN</td>\n",
       "      <td>NaN</td>\n",
       "      <td>NaN</td>\n",
       "      <td>NaN</td>\n",
       "    </tr>\n",
       "    <tr>\n",
       "      <th>year</th>\n",
       "      <td>125362</td>\n",
       "      <td>NaN</td>\n",
       "      <td>NaN</td>\n",
       "      <td>NaN</td>\n",
       "      <td>2010.43</td>\n",
       "      <td>9.67581</td>\n",
       "      <td>1000</td>\n",
       "      <td>2009</td>\n",
       "      <td>2011</td>\n",
       "      <td>2013</td>\n",
       "      <td>2017</td>\n",
       "    </tr>\n",
       "    <tr>\n",
       "      <th>Age</th>\n",
       "      <td>125362</td>\n",
       "      <td>NaN</td>\n",
       "      <td>NaN</td>\n",
       "      <td>NaN</td>\n",
       "      <td>8.56859</td>\n",
       "      <td>9.67581</td>\n",
       "      <td>2</td>\n",
       "      <td>6</td>\n",
       "      <td>8</td>\n",
       "      <td>10</td>\n",
       "      <td>1019</td>\n",
       "    </tr>\n",
       "  </tbody>\n",
       "</table>\n",
       "</div>"
      ],
      "text/plain": [
       "                        count  unique  \\\n",
       "country                129908      43   \n",
       "description            129971  119955   \n",
       "designation             92506   37979   \n",
       "points                 129971     NaN   \n",
       "price                  120975     NaN   \n",
       "province               129908     425   \n",
       "region_1               108724    1229   \n",
       "region_2                50511      17   \n",
       "taster_name            103727      19   \n",
       "taster_twitter_handle   98758      15   \n",
       "title                  129971  118840   \n",
       "variety                129970     707   \n",
       "winery                 129971   16757   \n",
       "year                   125362     NaN   \n",
       "Age                    125362     NaN   \n",
       "\n",
       "                                                                     top  \\\n",
       "country                                                               US   \n",
       "description            Ripe plum, game, truffle, leather and menthol ...   \n",
       "designation                                                      Reserve   \n",
       "points                                                               NaN   \n",
       "price                                                                NaN   \n",
       "province                                                      California   \n",
       "region_1                                                     Napa Valley   \n",
       "region_2                                                   Central Coast   \n",
       "taster_name                                                   Roger Voss   \n",
       "taster_twitter_handle                                         @vossroger   \n",
       "title                  Gloria Ferrer NV Sonoma Brut Sparkling (Sonoma...   \n",
       "variety                                                       Pinot Noir   \n",
       "winery                                                Wines & Winemakers   \n",
       "year                                                                 NaN   \n",
       "Age                                                                  NaN   \n",
       "\n",
       "                        freq     mean      std   min   25%   50%   75%   max  \n",
       "country                54504      NaN      NaN   NaN   NaN   NaN   NaN   NaN  \n",
       "description                3      NaN      NaN   NaN   NaN   NaN   NaN   NaN  \n",
       "designation             2009      NaN      NaN   NaN   NaN   NaN   NaN   NaN  \n",
       "points                   NaN  88.4471  3.03973    80    86    88    91   100  \n",
       "price                    NaN  35.3634  41.0222     4    17    25    42  3300  \n",
       "province               36247      NaN      NaN   NaN   NaN   NaN   NaN   NaN  \n",
       "region_1                4480      NaN      NaN   NaN   NaN   NaN   NaN   NaN  \n",
       "region_2               11065      NaN      NaN   NaN   NaN   NaN   NaN   NaN  \n",
       "taster_name            25514      NaN      NaN   NaN   NaN   NaN   NaN   NaN  \n",
       "taster_twitter_handle  25514      NaN      NaN   NaN   NaN   NaN   NaN   NaN  \n",
       "title                     11      NaN      NaN   NaN   NaN   NaN   NaN   NaN  \n",
       "variety                13272      NaN      NaN   NaN   NaN   NaN   NaN   NaN  \n",
       "winery                   222      NaN      NaN   NaN   NaN   NaN   NaN   NaN  \n",
       "year                     NaN  2010.43  9.67581  1000  2009  2011  2013  2017  \n",
       "Age                      NaN  8.56859  9.67581     2     6     8    10  1019  "
      ]
     },
     "execution_count": 129,
     "metadata": {},
     "output_type": "execute_result"
    }
   ],
   "source": [
    "data.describe(include='all',).T"
   ]
  },
  {
   "cell_type": "markdown",
   "metadata": {},
   "source": [
    "Here we print the top 20 number of countries and how many reviews they have distributed between them. This is key information as it will help us clean up the dataset a bit before we implement of Wide & Deep Model.\n",
    "\n",
    "We can see that US, France, Italy, Span and South America produce the most wines according to WineMag.com which we could have guessed. These are all countries you would expect to see on a wine label."
   ]
  },
  {
   "cell_type": "code",
   "execution_count": 66,
   "metadata": {},
   "outputs": [
    {
     "data": {
      "image/png": "[encoded data removed]",
      "text/plain": [
       "<Figure size 1008x720 with 1 Axes>"
      ]
     },
     "metadata": {},
     "output_type": "display_data"
    }
   ],
   "source": [
    "plt.figure(figsize=(14,10))\n",
    "country = data['country'].value_counts().to_frame()[0:20]\n",
    "sns.barplot(x= country['country'], y=country.index, data=country, color=\"red\")\n",
    "plt.title('Distribution of Wine Reviews by Top 20 Countries');"
   ]
  },
  {
   "cell_type": "markdown",
   "metadata": {},
   "source": [
    "Below is a distribution of the price and a boxplot kf the price. As we can see majority of wine is in the lower range of 0-200 and there is a few wines that are going more toward the more expensive range."
   ]
  },
  {
   "cell_type": "code",
   "execution_count": 131,
   "metadata": {},
   "outputs": [
    {
     "name": "stderr",
     "output_type": "stream",
     "text": [
      "/Users/davidoneill/anaconda3/lib/python3.6/site-packages/scipy/stats/stats.py:1713: FutureWarning: Using a non-tuple sequence for multidimensional indexing is deprecated; use `arr[tuple(seq)]` instead of `arr[seq]`. In the future this will be interpreted as an array index, `arr[np.array(seq)]`, which will result either in an error or a different result.\n",
      "  return np.add.reduce(sorted[indexer] * weights, axis=axis) / sumval\n",
      "/Users/davidoneill/anaconda3/lib/python3.6/site-packages/matplotlib/axes/_axes.py:6462: UserWarning: The 'normed' kwarg is deprecated, and has been replaced by the 'density' kwarg.\n",
      "  warnings.warn(\"The 'normed' kwarg is deprecated, and has been \"\n"
     ]
    },
    {
     "data": {
      "text/plain": [
       "Text(0.5,1,'Boxplot of price')"
      ]
     },
     "execution_count": 131,
     "metadata": {},
     "output_type": "execute_result"
    },
    {
     "data": {
      "image/png": "[encoded data removed]",
      "text/plain": [
       "<Figure size 1008x432 with 2 Axes>"
      ]
     },
     "metadata": {},
     "output_type": "display_data"
    }
   ],
   "source": [
    "f, ax = plt.subplots(1,2,figsize=(14,6))\n",
    "ax1,ax2 = ax.flatten()\n",
    "sns.distplot(data['price'].fillna(data['price'].mean()),color='r',ax=ax1)\n",
    "ax1.set_title('Distrbution of price')\n",
    "sns.boxplot(x = data['price'], ax=ax2)\n",
    "ax2.set_ylabel('')\n",
    "ax2.set_title('Boxplot of price')"
   ]
  },
  {
   "cell_type": "markdown",
   "metadata": {},
   "source": [
    "To view the average price of wine per country we implemented the below function, This gave us an insight into which countries produce the most expensive wine. Economics probably plays a part in this to some degree as you would expect countries on the lower end of the scale to produce cheaper wines than the contries at the higher end of the scale. We are only going to use the most occuring countries in the dataset for the model therfore we will limit it to 32 countries.\n"
   ]
  },
  {
   "cell_type": "code",
   "execution_count": 132,
   "metadata": {},
   "outputs": [
    {
     "data": {
      "image/png": "[encoded data removed]",
      "text/plain": [
       "<Figure size 1152x576 with 1 Axes>"
      ]
     },
     "metadata": {},
     "output_type": "display_data"
    }
   ],
   "source": [
    "country = data.groupby(['country',]).mean()['price'].sort_values(ascending=False).to_frame()\n",
    "plt.figure(figsize=(16,8))\n",
    "sns.pointplot(x = country['price'] ,y = country.index ,color='r',orient='h',markers='o')\n",
    "plt.title('Average price of wine per country')\n",
    "plt.xlabel('Price')\n",
    "plt.ylabel('Country');"
   ]
  },
  {
   "cell_type": "markdown",
   "metadata": {},
   "source": [
    "Most expensive wines per country"
   ]
  },
  {
   "cell_type": "code",
   "execution_count": 133,
   "metadata": {},
   "outputs": [
    {
     "data": {
      "text/plain": [
       "Text(0.5,0,'Max Price per country')"
      ]
     },
     "execution_count": 133,
     "metadata": {},
     "output_type": "execute_result"
    },
    {
     "data": {
      "image/png": "[encoded data removed]",
      "text/plain": [
       "<Figure size 1152x576 with 2 Axes>"
      ]
     },
     "metadata": {},
     "output_type": "display_data"
    }
   ],
   "source": [
    "fig,ax = plt.subplots(1,2,figsize=(16,8))\n",
    "ax1,ax2 = ax.flatten()\n",
    "\n",
    "country = data.groupby(['country'])['price'].max().sort_values(ascending=False).to_frame()\n",
    "sns.barplot(x = country['price'], y = country.index, palette='dark',ax=ax1)\n",
    "ax1.set_title('Most expensive wine per country')\n",
    "ax1.set_ylabel('Country')\n",
    "ax1.set_xlabel('Max Price per country')"
   ]
  },
  {
   "cell_type": "markdown",
   "metadata": {},
   "source": [
    "We can also view the average ratings of each country. These are all pretty high as wine reviews rarely fall below 60, meaning majority of reviews are around 70/80."
   ]
  },
  {
   "cell_type": "code",
   "execution_count": 134,
   "metadata": {},
   "outputs": [
    {
     "data": {
      "image/png": "[encoded data removed]",
      "text/plain": [
       "<Figure size 1152x576 with 1 Axes>"
      ]
     },
     "metadata": {},
     "output_type": "display_data"
    }
   ],
   "source": [
    "country = data.groupby(['country',]).mean()['points'].sort_values(ascending=False).to_frame()\n",
    "plt.figure(figsize=(16,8))\n",
    "sns.pointplot(x = country['points'] ,y = country.index ,color='r',orient='h')\n",
    "plt.title('Average rating of wine per country')\n",
    "plt.xlabel('Rating')\n",
    "plt.ylabel('Country');"
   ]
  },
  {
   "cell_type": "markdown",
   "metadata": {},
   "source": [
    "Lets also see what percentage is missing from each column."
   ]
  },
  {
   "cell_type": "code",
   "execution_count": 151,
   "metadata": {},
   "outputs": [
    {
     "name": "stdout",
     "output_type": "stream",
     "text": [
      "country                   0.000000\n",
      "description               0.000000\n",
      "designation              29.193782\n",
      "points                    0.000000\n",
      "price                     6.990337\n",
      "province                  0.000000\n",
      "region_1                 14.654778\n",
      "region_2                 56.567854\n",
      "taster_name              20.395873\n",
      "taster_twitter_handle    24.341534\n",
      "title                     0.000000\n",
      "variety                   0.000000\n",
      "winery                    0.025209\n",
      "year                      3.529247\n",
      "Age                       3.529247\n",
      "dtype: float64\n"
     ]
    }
   ],
   "source": [
    "percent_missing = data.isnull().sum() * 100 / len(data)\n",
    "print(percent_missing)"
   ]
  },
  {
   "cell_type": "markdown",
   "metadata": {},
   "source": [
    "Anything missing is from columns that we won't need to use in our model which is good! There is some missing in the columns we need but we can change that below."
   ]
  },
  {
   "cell_type": "markdown",
   "metadata": {},
   "source": [
    "As we have done some analysis and we have gotten a good understanding of the data, we can now start to clean the data and get it ready for our model. We will start with removing some of the columns and the rows that we don't need, as well as removing null values and we also need to clean our description using natural language processing so it is ready for our model.\n",
    "\n",
    "Countries that don't show up too much are not going to help our dataset so I'll drop the ones that show up the least in the dataset."
   ]
  },
  {
   "cell_type": "code",
   "execution_count": 135,
   "metadata": {},
   "outputs": [
    {
     "data": {
      "text/plain": [
       "US                        54504\n",
       "France                    22093\n",
       "Italy                     19540\n",
       "Spain                      6645\n",
       "Portugal                   5691\n",
       "Chile                      4472\n",
       "Argentina                  3800\n",
       "Austria                    3345\n",
       "Australia                  2329\n",
       "Germany                    2165\n",
       "New Zealand                1419\n",
       "South Africa               1401\n",
       "Israel                      505\n",
       "Greece                      466\n",
       "Canada                      257\n",
       "Hungary                     146\n",
       "Bulgaria                    141\n",
       "Romania                     120\n",
       "Uruguay                     109\n",
       "Turkey                       90\n",
       "Slovenia                     87\n",
       "Georgia                      86\n",
       "England                      74\n",
       "Croatia                      73\n",
       "Mexico                       70\n",
       "Moldova                      59\n",
       "Brazil                       52\n",
       "Lebanon                      35\n",
       "Morocco                      28\n",
       "Peru                         16\n",
       "Ukraine                      14\n",
       "Serbia                       12\n",
       "Czech Republic               12\n",
       "Macedonia                    12\n",
       "Cyprus                       11\n",
       "India                         9\n",
       "Switzerland                   7\n",
       "Luxembourg                    6\n",
       "Armenia                       2\n",
       "Bosnia and Herzegovina        2\n",
       "China                         1\n",
       "Slovakia                      1\n",
       "Egypt                         1\n",
       "Name: country, dtype: int64"
      ]
     },
     "execution_count": 135,
     "metadata": {},
     "output_type": "execute_result"
    }
   ],
   "source": [
    "data['country'].value_counts()"
   ]
  },
  {
   "cell_type": "code",
   "execution_count": 136,
   "metadata": {},
   "outputs": [],
   "source": [
    "remove_country = 1000 # Anything that occurs less than this will be removed.\n",
    "value_counts_country = data['country'].value_counts()\n",
    "C_remove = value_counts_country[value_counts_country <= country_threshold].index\n",
    "data.replace(C_remove, np.nan, inplace=True)\n",
    "data = data[pd.notnull(data['country'])]"
   ]
  },
  {
   "cell_type": "markdown",
   "metadata": {},
   "source": [
    "As you can see the countries that occur less than 1000 times will be removed."
   ]
  },
  {
   "cell_type": "code",
   "execution_count": 137,
   "metadata": {},
   "outputs": [
    {
     "data": {
      "text/plain": [
       "US              54504\n",
       "France          22093\n",
       "Italy           19540\n",
       "Spain            6645\n",
       "Portugal         5691\n",
       "Chile            4472\n",
       "Argentina        3800\n",
       "Austria          3345\n",
       "Australia        2329\n",
       "Germany          2165\n",
       "New Zealand      1419\n",
       "South Africa     1401\n",
       "Name: country, dtype: int64"
      ]
     },
     "execution_count": 137,
     "metadata": {},
     "output_type": "execute_result"
    }
   ],
   "source": [
    "data['country'].value_counts()"
   ]
  },
  {
   "cell_type": "markdown",
   "metadata": {},
   "source": [
    "This will allow us to better manipulate the data as we are only going to use four features in the model. \n",
    "\n",
    "The Description, The Variety, The Country and The Points or as you will see me mention it as The Rating. Wine reviewers call Ratings Points.\n",
    "\n",
    "We can also remove any varietys that don't show up enough in the dataset. As you can see below there is numerous amounts of varieties that only show up once. When we look at the top 50 we can see that at a point, the varieties drop below 650 which I feel is a good point to remove nything tht appears less than this amount. We will also drop any nulls in these two features and then go ahead and drop the nulls in the points feature too."
   ]
  },
  {
   "cell_type": "code",
   "execution_count": 138,
   "metadata": {},
   "outputs": [
    {
     "data": {
      "text/plain": [
       "Pinot Noir                        13180\n",
       "Chardonnay                        11590\n",
       "Cabernet Sauvignon                 9288\n",
       "Red Blend                          8628\n",
       "Bordeaux-style Red Blend           6838\n",
       "Riesling                           5113\n",
       "Sauvignon Blanc                    4870\n",
       "Syrah                              4083\n",
       "Rosé                               3506\n",
       "Merlot                             3005\n",
       "Nebbiolo                           2798\n",
       "Zinfandel                          2714\n",
       "Sangiovese                         2706\n",
       "Malbec                             2646\n",
       "Portuguese Red                     2466\n",
       "White Blend                        2176\n",
       "Sparkling Blend                    2080\n",
       "Tempranillo                        1805\n",
       "Rhône-style Red Blend              1466\n",
       "Pinot Gris                         1437\n",
       "Champagne Blend                    1390\n",
       "Grüner Veltliner                   1344\n",
       "Cabernet Franc                     1311\n",
       "Portuguese White                   1159\n",
       "Bordeaux-style White Blend         1066\n",
       "Pinot Grigio                       1032\n",
       "Gamay                              1025\n",
       "Gewürztraminer                      995\n",
       "Viognier                            981\n",
       "Shiraz                              804\n",
       "                                  ...  \n",
       "Bastardo                              1\n",
       "Catalanesca                           1\n",
       "Francisa                              1\n",
       "Sauvignon Blanc-Sauvignon Gris        1\n",
       "Shiraz-Roussanne                      1\n",
       "Prunelard                             1\n",
       "Merlot-Syrah                          1\n",
       "Silvaner-Traminer                     1\n",
       "Sercial                               1\n",
       "Syrah-Malbec                          1\n",
       "Teroldego Rotaliano                   1\n",
       "Tintilia                              1\n",
       "Muscadel                              1\n",
       "Barbera-Nebbiolo                      1\n",
       "Vermentino Nero                       1\n",
       "Roussanne-Grenache Blanc              1\n",
       "Premsal                               1\n",
       "Garnacha-Cariñena                     1\n",
       "Petit Meslier                         1\n",
       "Tempranillo-Malbec                    1\n",
       "Gelber Traminer                       1\n",
       "Cococciola                            1\n",
       "Tinta Madeira                         1\n",
       "Caprettone                            1\n",
       "Früburgunder                          1\n",
       "Vital                                 1\n",
       "Jampal                                1\n",
       "Siegerrebe                            1\n",
       "Verdosilla                            1\n",
       "Torontel                              1\n",
       "Name: variety, Length: 615, dtype: int64"
      ]
     },
     "execution_count": 138,
     "metadata": {},
     "output_type": "execute_result"
    }
   ],
   "source": [
    "data['variety'].value_counts()\n"
   ]
  },
  {
   "cell_type": "code",
   "execution_count": 139,
   "metadata": {},
   "outputs": [
    {
     "data": {
      "text/plain": [
       "Pinot Noir                       13180\n",
       "Chardonnay                       11590\n",
       "Cabernet Sauvignon                9288\n",
       "Red Blend                         8628\n",
       "Bordeaux-style Red Blend          6838\n",
       "Riesling                          5113\n",
       "Sauvignon Blanc                   4870\n",
       "Syrah                             4083\n",
       "Rosé                              3506\n",
       "Merlot                            3005\n",
       "Nebbiolo                          2798\n",
       "Zinfandel                         2714\n",
       "Sangiovese                        2706\n",
       "Malbec                            2646\n",
       "Portuguese Red                    2466\n",
       "White Blend                       2176\n",
       "Sparkling Blend                   2080\n",
       "Tempranillo                       1805\n",
       "Rhône-style Red Blend             1466\n",
       "Pinot Gris                        1437\n",
       "Champagne Blend                   1390\n",
       "Grüner Veltliner                  1344\n",
       "Cabernet Franc                    1311\n",
       "Portuguese White                  1159\n",
       "Bordeaux-style White Blend        1066\n",
       "Pinot Grigio                      1032\n",
       "Gamay                             1025\n",
       "Gewürztraminer                     995\n",
       "Viognier                           981\n",
       "Shiraz                             804\n",
       "Petite Sirah                       757\n",
       "Sangiovese Grosso                  751\n",
       "Barbera                            718\n",
       "Glera                              709\n",
       "Port                               668\n",
       "Grenache                           648\n",
       "Corvina, Rondinella, Molinara      619\n",
       "Tempranillo Blend                  588\n",
       "Chenin Blanc                       582\n",
       "Carmenère                          574\n",
       "Albariño                           471\n",
       "Pinot Blanc                        442\n",
       "Rhône-style White Blend            420\n",
       "Nero d'Avola                       365\n",
       "Aglianico                          359\n",
       "Moscato                            342\n",
       "Garnacha                           326\n",
       "Sauvignon                          311\n",
       "Verdejo                            294\n",
       "Melon                              280\n",
       "Name: variety, dtype: int64"
      ]
     },
     "execution_count": 139,
     "metadata": {},
     "output_type": "execute_result"
    }
   ],
   "source": [
    "data['variety'].value_counts()[0:50]"
   ]
  },
  {
   "cell_type": "code",
   "execution_count": 140,
   "metadata": {},
   "outputs": [],
   "source": [
    "remove_variety = 650 # Anything that occurs less than this will be removed.\n",
    "value_counts_variety = data['variety'].value_counts()\n",
    "V_remove = value_counts[value_counts_variety <= remove_variety].index\n",
    "data.replace(V_remove, np.nan, inplace=True)\n",
    "data = data[pd.notnull(data['variety'])] "
   ]
  },
  {
   "cell_type": "code",
   "execution_count": 141,
   "metadata": {},
   "outputs": [
    {
     "data": {
      "text/plain": [
       "Pinot Noir                    13180\n",
       "Chardonnay                    11590\n",
       "Cabernet Sauvignon             9288\n",
       "Red Blend                      8628\n",
       "Bordeaux-style Red Blend       6838\n",
       "Riesling                       5113\n",
       "Sauvignon Blanc                4870\n",
       "Syrah                          4083\n",
       "Rosé                           3506\n",
       "Merlot                         3005\n",
       "Nebbiolo                       2798\n",
       "Zinfandel                      2714\n",
       "Sangiovese                     2706\n",
       "Malbec                         2646\n",
       "Portuguese Red                 2466\n",
       "White Blend                    2176\n",
       "Sparkling Blend                2080\n",
       "Tempranillo                    1805\n",
       "Rhône-style Red Blend          1466\n",
       "Pinot Gris                     1437\n",
       "Champagne Blend                1390\n",
       "Grüner Veltliner               1344\n",
       "Cabernet Franc                 1311\n",
       "Portuguese White               1159\n",
       "Bordeaux-style White Blend     1066\n",
       "Pinot Grigio                   1032\n",
       "Gamay                          1025\n",
       "Gewürztraminer                  995\n",
       "Viognier                        981\n",
       "Shiraz                          804\n",
       "Petite Sirah                    757\n",
       "Sangiovese Grosso               751\n",
       "Barbera                         718\n",
       "Glera                           709\n",
       "Port                            668\n",
       "Name: variety, dtype: int64"
      ]
     },
     "execution_count": 141,
     "metadata": {},
     "output_type": "execute_result"
    }
   ],
   "source": [
    "data['variety'].value_counts()"
   ]
  },
  {
   "cell_type": "code",
   "execution_count": 142,
   "metadata": {},
   "outputs": [],
   "source": [
    "data = data[pd.notnull(data['points'])]"
   ]
  },
  {
   "cell_type": "markdown",
   "metadata": {},
   "source": [
    "We can double check that all nulls have been removed.\n"
   ]
  },
  {
   "cell_type": "code",
   "execution_count": 148,
   "metadata": {},
   "outputs": [
    {
     "data": {
      "text/plain": [
       "0     False\n",
       "1     False\n",
       "2     False\n",
       "3     False\n",
       "4     False\n",
       "7     False\n",
       "8     False\n",
       "9     False\n",
       "10    False\n",
       "11    False\n",
       "12    False\n",
       "14    False\n",
       "15    False\n",
       "16    False\n",
       "17    False\n",
       "20    False\n",
       "21    False\n",
       "22    False\n",
       "23    False\n",
       "25    False\n",
       "26    False\n",
       "28    False\n",
       "30    False\n",
       "31    False\n",
       "32    False\n",
       "33    False\n",
       "34    False\n",
       "35    False\n",
       "37    False\n",
       "41    False\n",
       "42    False\n",
       "43    False\n",
       "44    False\n",
       "45    False\n",
       "47    False\n",
       "48    False\n",
       "49    False\n",
       "50    False\n",
       "53    False\n",
       "54    False\n",
       "Name: points, dtype: bool"
      ]
     },
     "execution_count": 148,
     "metadata": {},
     "output_type": "execute_result"
    }
   ],
   "source": [
    "data['points'].isnull()[:40]\n"
   ]
  },
  {
   "cell_type": "code",
   "execution_count": 149,
   "metadata": {},
   "outputs": [
    {
     "data": {
      "text/plain": [
       "0     False\n",
       "1     False\n",
       "2     False\n",
       "3     False\n",
       "4     False\n",
       "7     False\n",
       "8     False\n",
       "9     False\n",
       "10    False\n",
       "11    False\n",
       "12    False\n",
       "14    False\n",
       "15    False\n",
       "16    False\n",
       "17    False\n",
       "20    False\n",
       "21    False\n",
       "22    False\n",
       "23    False\n",
       "25    False\n",
       "26    False\n",
       "28    False\n",
       "30    False\n",
       "31    False\n",
       "32    False\n",
       "33    False\n",
       "34    False\n",
       "35    False\n",
       "37    False\n",
       "41    False\n",
       "42    False\n",
       "43    False\n",
       "44    False\n",
       "45    False\n",
       "47    False\n",
       "48    False\n",
       "49    False\n",
       "50    False\n",
       "53    False\n",
       "54    False\n",
       "Name: country, dtype: bool"
      ]
     },
     "execution_count": 149,
     "metadata": {},
     "output_type": "execute_result"
    }
   ],
   "source": [
    "data['country'].isnull()[:40]"
   ]
  },
  {
   "cell_type": "code",
   "execution_count": 150,
   "metadata": {},
   "outputs": [
    {
     "data": {
      "text/plain": [
       "0     False\n",
       "1     False\n",
       "2     False\n",
       "3     False\n",
       "4     False\n",
       "7     False\n",
       "8     False\n",
       "9     False\n",
       "10    False\n",
       "11    False\n",
       "12    False\n",
       "14    False\n",
       "15    False\n",
       "16    False\n",
       "17    False\n",
       "20    False\n",
       "21    False\n",
       "22    False\n",
       "23    False\n",
       "25    False\n",
       "26    False\n",
       "28    False\n",
       "30    False\n",
       "31    False\n",
       "32    False\n",
       "33    False\n",
       "34    False\n",
       "35    False\n",
       "37    False\n",
       "41    False\n",
       "42    False\n",
       "43    False\n",
       "44    False\n",
       "45    False\n",
       "47    False\n",
       "48    False\n",
       "49    False\n",
       "50    False\n",
       "53    False\n",
       "54    False\n",
       "Name: variety, dtype: bool"
      ]
     },
     "execution_count": 150,
     "metadata": {},
     "output_type": "execute_result"
    }
   ],
   "source": [
    "data['variety'].isnull()[:40]"
   ]
  },
  {
   "cell_type": "markdown",
   "metadata": {},
   "source": [
    "Now that we have three of our four features cleaned we can clean the hardest, which is the description. The description need to have all duplicates removed.\n",
    "\n",
    "Any stop words also have to be removed such as ',' and \"'\" and so fourth.\n",
    "\n",
    "We will start with removing the duplicates.\n"
   ]
  },
  {
   "cell_type": "code",
   "execution_count": 153,
   "metadata": {},
   "outputs": [
    {
     "name": "stdout",
     "output_type": "stream",
     "text": [
      "8159\n"
     ]
    }
   ],
   "source": [
    "duplicate_description = sum(data.duplicated('description'))\n",
    "print(duplicate_description)"
   ]
  },
  {
   "cell_type": "markdown",
   "metadata": {},
   "source": [
    "There is 8159 durplicates, we will remove these."
   ]
  },
  {
   "cell_type": "code",
   "execution_count": 154,
   "metadata": {},
   "outputs": [],
   "source": [
    "data = data.drop_duplicates(subset='description', keep=\"first\")"
   ]
  },
  {
   "cell_type": "code",
   "execution_count": 155,
   "metadata": {},
   "outputs": [
    {
     "name": "stdout",
     "output_type": "stream",
     "text": [
      "0\n"
     ]
    }
   ],
   "source": [
    "duplicate_description = sum(data.duplicated('description'))\n",
    "print(duplicate_description)"
   ]
  },
  {
   "cell_type": "code",
   "execution_count": 156,
   "metadata": {},
   "outputs": [
    {
     "data": {
      "text/plain": [
       "98946"
      ]
     },
     "execution_count": 156,
     "metadata": {},
     "output_type": "execute_result"
    }
   ],
   "source": [
    "data['description'].count()"
   ]
  },
  {
   "cell_type": "code",
   "execution_count": 204,
   "metadata": {},
   "outputs": [
    {
     "data": {
      "text/plain": [
       "98946"
      ]
     },
     "execution_count": 204,
     "metadata": {},
     "output_type": "execute_result"
    }
   ],
   "source": [
    "data['variety'].count()"
   ]
  },
  {
   "cell_type": "code",
   "execution_count": 205,
   "metadata": {},
   "outputs": [
    {
     "data": {
      "text/plain": [
       "98946"
      ]
     },
     "execution_count": 205,
     "metadata": {},
     "output_type": "execute_result"
    }
   ],
   "source": [
    "data['country'].count()"
   ]
  },
  {
   "cell_type": "markdown",
   "metadata": {},
   "source": [
    "So now we have 98946 to use! and they're all unique\n"
   ]
  },
  {
   "cell_type": "code",
   "execution_count": 158,
   "metadata": {},
   "outputs": [
    {
     "data": {
      "text/plain": [
       "98946"
      ]
     },
     "execution_count": 158,
     "metadata": {},
     "output_type": "execute_result"
    }
   ],
   "source": [
    "data['description'].nunique()"
   ]
  },
  {
   "cell_type": "code",
   "execution_count": 166,
   "metadata": {},
   "outputs": [
    {
     "data": {
      "text/plain": [
       "0     Aromas include tropical fruit, broom, brimston...\n",
       "1     This is ripe and fruity, a wine that is smooth...\n",
       "2     Tart and snappy, the flavors of lime flesh and...\n",
       "3     Pineapple rind, lemon pith and orange blossom ...\n",
       "4     Much like the regular bottling from 2012, this...\n",
       "7     This dry and restrained wine offers spice in p...\n",
       "8     Savory dried thyme notes accent sunnier flavor...\n",
       "9     This has great depth of flavor with its fresh ...\n",
       "10    Soft, supple plum envelopes an oaky structure ...\n",
       "11    This is a dry wine, very spicy, with a tight, ...\n",
       "12    Slightly reduced, this wine offers a chalky, t...\n",
       "14    Building on 150 years and six generations of w...\n",
       "15    Zesty orange peels and apple notes abound in t...\n",
       "16    Baked plum, molasses, balsamic vinegar and che...\n",
       "17    Raw black-cherry aromas are direct and simple ...\n",
       "20    Ripe aromas of dark berries mingle with ample ...\n",
       "21    A sleek mix of tart berry, stem and herb, alon...\n",
       "22    Delicate aromas recall white flower and citrus...\n",
       "23    This wine from the Geneseo district offers aro...\n",
       "25    Oak and earth intermingle around robust aromas...\n",
       "Name: description, dtype: object"
      ]
     },
     "execution_count": 166,
     "metadata": {},
     "output_type": "execute_result"
    }
   ],
   "source": [
    "data['description'][0:20]"
   ]
  },
  {
   "cell_type": "markdown",
   "metadata": {},
   "source": [
    "Below is a list of stop words which are unecessary for our model to process. We will remove them from the descriptions"
   ]
  },
  {
   "cell_type": "code",
   "execution_count": 182,
   "metadata": {},
   "outputs": [
    {
     "name": "stdout",
     "output_type": "stream",
     "text": [
      "{'has', \"aren't\", 'but', 'about', 'were', 'from', 'a', 'for', 'o', 'how', \"don't\", 'above', \"weren't\", 'not', 'and', 'yourselves', 'are', \"won't\", 'ourselves', \"you're\", \"hasn't\", 'd', 'until', 'when', \"that'll\", \"didn't\", \"shouldn't\", 'it', 'each', 'any', 'll', 'being', 'he', 'aren', 'few', 'will', 'having', 'nor', 'isn', 'is', 'was', 'i', 'that', 'below', 'm', \"wouldn't\", 'so', 'yourself', 'into', 'do', \"needn't\", 'hadn', 'mightn', 'off', 'their', 'been', 'by', 'all', 'themselves', 'where', 'own', 'don', 'of', 'an', \"isn't\", 'doesn', 'whom', 'more', 'myself', 'on', \"shan't\", 'which', 'we', \"should've\", 've', 'up', 'before', 'there', 'now', 'our', 'during', 'other', \"mustn't\", 'needn', 'wasn', 's', 'too', 'or', 'most', 'very', 'him', 'those', 'as', \"haven't\", 'such', 'both', 'if', 'ma', \"mightn't\", 'no', 'to', 'your', 'against', \"it's\", 'some', \"you'll\", 'should', 'while', 'under', 'after', 'had', 'why', 'yours', \"doesn't\", 'just', 'than', 'wouldn', 'shouldn', 'through', 'doing', 'what', 'ain', 'these', 'shan', 'this', 'out', 'then', 'once', 'theirs', 'here', 'ours', \"wasn't\", 'at', 'only', 'herself', 'hasn', 'did', 'she', 'down', 'between', \"she's\", 'himself', 'again', 'am', 'over', \"couldn't\", \"you'd\", 'same', 'didn', 'in', 'with', 'couldn', 'her', 'who', 'because', 'does', 'his', 'the', \"hadn't\", 'y', 'can', 'itself', 'be', 're', 'won', 'my', 'hers', 'they', 'them', 'haven', 'you', 'weren', 'its', 'have', 'further', 't', 'me', \"you've\", 'mustn'}\n"
     ]
    }
   ],
   "source": [
    "stop = set(stopwords.words('english')) \n",
    "print(stop)"
   ]
  },
  {
   "cell_type": "code",
   "execution_count": 183,
   "metadata": {},
   "outputs": [],
   "source": [
    "stop_description = data['description']"
   ]
  },
  {
   "cell_type": "code",
   "execution_count": 184,
   "metadata": {},
   "outputs": [],
   "source": [
    "new_list =[]\n",
    "snow = nltk.stem.SnowballStemmer('english')\n",
    "for description in stop_description:\n",
    "    description = description.lower()                 \n",
    "    cleanr = re.compile('<.*?>')\n",
    "    description = re.sub(cleanr, ' ', description)        \n",
    "    description = re.sub(r'[?|!|\\'|\"|#]',r'',description)\n",
    "    description = re.sub(r'[.|,|)|(|\\|/]',r' ',description)        \n",
    "    \n",
    "    words = [snow.stem(word) for word in description.split() if word not in stopwords.words('english')] \n",
    "    new_list.append(words)\n",
    "    \n",
    "stop_description = new_list    "
   ]
  },
  {
   "cell_type": "markdown",
   "metadata": {},
   "source": [
    "As you can see the stop words have been removed and we are left with only the main descriving words in every sentence in the description. What happened in the last function was the descriptions were looped through and the sentences in the description were amde lowercase, html tags were removed if there was any there, all of the punctuation was removed and the the stop words listed above were also removed. We can now move onto our deel model and implementing the bag of words and the tokenization."
   ]
  },
  {
   "cell_type": "code",
   "execution_count": 192,
   "metadata": {},
   "outputs": [
    {
     "data": {
      "text/plain": [
       "0     [aroma, includ, tropic, fruit, broom, brimston...\n",
       "1     [ripe, fruiti, wine, smooth, still, structur, ...\n",
       "2     [tart, snappi, flavor, lime, flesh, rind, domi...\n",
       "3     [pineappl, rind, lemon, pith, orang, blossom, ...\n",
       "4     [much, like, regular, bottl, 2012, come, acros...\n",
       "7     [dri, restrain, wine, offer, spice, profus, ba...\n",
       "8     [savori, dri, thyme, note, accent, sunnier, fl...\n",
       "9     [great, depth, flavor, fresh, appl, pear, frui...\n",
       "10    [soft, suppl, plum, envelop, oaki, structur, c...\n",
       "11    [dri, wine, spici, tight, taut, textur, strong...\n",
       "12    [slight, reduc, wine, offer, chalki, tannic, b...\n",
       "14    [build, 150, year, six, generat, winemak, trad...\n",
       "15    [zesti, orang, peel, appl, note, abound, sprig...\n",
       "16    [bake, plum, molass, balsam, vinegar, cheesi, ...\n",
       "17    [raw, black-cherri, aroma, direct, simpl, good...\n",
       "20    [ripe, aroma, dark, berri, mingl, ampl, note, ...\n",
       "21    [sleek, mix, tart, berri, stem, herb, along, h...\n",
       "22    [delic, aroma, recal, white, flower, citrus, p...\n",
       "23    [wine, geneseo, district, offer, aroma, sour, ...\n",
       "25    [oak, earth, intermingl, around, robust, aroma...\n",
       "Name: description, dtype: object"
      ]
     },
     "execution_count": 192,
     "metadata": {},
     "output_type": "execute_result"
    }
   ],
   "source": [
    "data['description'][0:20]"
   ]
  },
  {
   "cell_type": "markdown",
   "metadata": {},
   "source": [
    "It's good to save a second dataset as if anthing messes up there is a backup dataset, removing stopwords and the other preperation takes quite some time to proccess."
   ]
  },
  {
   "cell_type": "code",
   "execution_count": 189,
   "metadata": {},
   "outputs": [],
   "source": [
    "export_csv = data.to_csv('./data/nostopwords.csv', index=None, header=True)"
   ]
  },
  {
   "cell_type": "code",
   "execution_count": 5,
   "metadata": {},
   "outputs": [],
   "source": [
    "data = pd.read_csv('./data/nostopwords.csv', index_col=None)"
   ]
  },
  {
   "cell_type": "markdown",
   "metadata": {},
   "source": [
    "We can drop columns that we don't need."
   ]
  },
  {
   "cell_type": "code",
   "execution_count": 6,
   "metadata": {
    "scrolled": true
   },
   "outputs": [],
   "source": [
    "data = data.drop(columns=['designation','region_1','region_2','price','taster_name','taster_twitter_handle', 'province', 'title','winery','year','Age'])\n",
    "\n"
   ]
  },
  {
   "cell_type": "code",
   "execution_count": 11,
   "metadata": {},
   "outputs": [
    {
     "data": {
      "text/html": [
       "<div>\n",
       "<style scoped>\n",
       "    .dataframe tbody tr th:only-of-type {\n",
       "        vertical-align: middle;\n",
       "    }\n",
       "\n",
       "    .dataframe tbody tr th {\n",
       "        vertical-align: top;\n",
       "    }\n",
       "\n",
       "    .dataframe thead th {\n",
       "        text-align: right;\n",
       "    }\n",
       "</style>\n",
       "<table border=\"1\" class=\"dataframe\">\n",
       "  <thead>\n",
       "    <tr style=\"text-align: right;\">\n",
       "      <th></th>\n",
       "      <th>country</th>\n",
       "      <th>description</th>\n",
       "      <th>points</th>\n",
       "      <th>variety</th>\n",
       "    </tr>\n",
       "  </thead>\n",
       "  <tbody>\n",
       "    <tr>\n",
       "      <th>0</th>\n",
       "      <td>Italy</td>\n",
       "      <td>['aroma', 'includ', 'tropic', 'fruit', 'broom'...</td>\n",
       "      <td>87</td>\n",
       "      <td>White Blend</td>\n",
       "    </tr>\n",
       "    <tr>\n",
       "      <th>1</th>\n",
       "      <td>Portugal</td>\n",
       "      <td>['ripe', 'fruiti', 'wine', 'smooth', 'still', ...</td>\n",
       "      <td>87</td>\n",
       "      <td>Portuguese Red</td>\n",
       "    </tr>\n",
       "    <tr>\n",
       "      <th>2</th>\n",
       "      <td>US</td>\n",
       "      <td>['tart', 'snappi', 'flavor', 'lime', 'flesh', ...</td>\n",
       "      <td>87</td>\n",
       "      <td>Pinot Gris</td>\n",
       "    </tr>\n",
       "    <tr>\n",
       "      <th>3</th>\n",
       "      <td>US</td>\n",
       "      <td>['pineappl', 'rind', 'lemon', 'pith', 'orang',...</td>\n",
       "      <td>87</td>\n",
       "      <td>Riesling</td>\n",
       "    </tr>\n",
       "    <tr>\n",
       "      <th>4</th>\n",
       "      <td>US</td>\n",
       "      <td>['much', 'like', 'regular', 'bottl', '2012', '...</td>\n",
       "      <td>87</td>\n",
       "      <td>Pinot Noir</td>\n",
       "    </tr>\n",
       "  </tbody>\n",
       "</table>\n",
       "</div>"
      ],
      "text/plain": [
       "    country                                        description  points  \\\n",
       "0     Italy  ['aroma', 'includ', 'tropic', 'fruit', 'broom'...      87   \n",
       "1  Portugal  ['ripe', 'fruiti', 'wine', 'smooth', 'still', ...      87   \n",
       "2        US  ['tart', 'snappi', 'flavor', 'lime', 'flesh', ...      87   \n",
       "3        US  ['pineappl', 'rind', 'lemon', 'pith', 'orang',...      87   \n",
       "4        US  ['much', 'like', 'regular', 'bottl', '2012', '...      87   \n",
       "\n",
       "          variety  \n",
       "0     White Blend  \n",
       "1  Portuguese Red  \n",
       "2      Pinot Gris  \n",
       "3        Riesling  \n",
       "4      Pinot Noir  "
      ]
     },
     "execution_count": 11,
     "metadata": {},
     "output_type": "execute_result"
    }
   ],
   "source": [
    "data.head(5)"
   ]
  },
  {
   "cell_type": "markdown",
   "metadata": {},
   "source": [
    "Lets take a look at our data now after the cleaning.\n",
    "\n",
    "The shape shows that now we have 98946 rows and 4 columns, a considerabe amount from when we started.\n",
    "\n",
    "We have numpy objects and int data types.\n",
    "\n",
    "We also have no null values which is good!\n"
   ]
  },
  {
   "cell_type": "code",
   "execution_count": 12,
   "metadata": {},
   "outputs": [
    {
     "data": {
      "text/plain": [
       "(98946, 4)"
      ]
     },
     "execution_count": 12,
     "metadata": {},
     "output_type": "execute_result"
    }
   ],
   "source": [
    "data.shape"
   ]
  },
  {
   "cell_type": "code",
   "execution_count": 13,
   "metadata": {},
   "outputs": [
    {
     "name": "stdout",
     "output_type": "stream",
     "text": [
      "<class 'pandas.core.frame.DataFrame'>\n",
      "RangeIndex: 98946 entries, 0 to 98945\n",
      "Data columns (total 4 columns):\n",
      "country        98946 non-null object\n",
      "description    98946 non-null object\n",
      "points         98946 non-null int64\n",
      "variety        98946 non-null object\n",
      "dtypes: int64(1), object(3)\n",
      "memory usage: 3.0+ MB\n"
     ]
    }
   ],
   "source": [
    "data.info()"
   ]
  },
  {
   "cell_type": "code",
   "execution_count": 14,
   "metadata": {},
   "outputs": [
    {
     "data": {
      "text/plain": [
       "country        0\n",
       "description    0\n",
       "points         0\n",
       "variety        0\n",
       "dtype: int64"
      ]
     },
     "execution_count": 14,
     "metadata": {},
     "output_type": "execute_result"
    }
   ],
   "source": [
    " data.isnull().sum()"
   ]
  },
  {
   "cell_type": "markdown",
   "metadata": {},
   "source": [
    "We can shuffle up our dataset with the following command."
   ]
  },
  {
   "cell_type": "code",
   "execution_count": 15,
   "metadata": {},
   "outputs": [],
   "source": [
    "data = data.sample(frac=1)"
   ]
  },
  {
   "cell_type": "code",
   "execution_count": 16,
   "metadata": {},
   "outputs": [
    {
     "data": {
      "text/html": [
       "<div>\n",
       "<style scoped>\n",
       "    .dataframe tbody tr th:only-of-type {\n",
       "        vertical-align: middle;\n",
       "    }\n",
       "\n",
       "    .dataframe tbody tr th {\n",
       "        vertical-align: top;\n",
       "    }\n",
       "\n",
       "    .dataframe thead th {\n",
       "        text-align: right;\n",
       "    }\n",
       "</style>\n",
       "<table border=\"1\" class=\"dataframe\">\n",
       "  <thead>\n",
       "    <tr style=\"text-align: right;\">\n",
       "      <th></th>\n",
       "      <th>country</th>\n",
       "      <th>description</th>\n",
       "      <th>points</th>\n",
       "      <th>variety</th>\n",
       "    </tr>\n",
       "  </thead>\n",
       "  <tbody>\n",
       "    <tr>\n",
       "      <th>34444</th>\n",
       "      <td>Australia</td>\n",
       "      <td>['despit', 'ampl', 'alcohol', 'level', 'soft',...</td>\n",
       "      <td>87</td>\n",
       "      <td>Pinot Noir</td>\n",
       "    </tr>\n",
       "    <tr>\n",
       "      <th>19737</th>\n",
       "      <td>Italy</td>\n",
       "      <td>['love', 'cool-clim', 'pinot', 'grigio', 'woul...</td>\n",
       "      <td>88</td>\n",
       "      <td>Pinot Grigio</td>\n",
       "    </tr>\n",
       "    <tr>\n",
       "      <th>27064</th>\n",
       "      <td>Italy</td>\n",
       "      <td>['aroma', 'ripe', 'white', 'stone', 'fruit', '...</td>\n",
       "      <td>88</td>\n",
       "      <td>Glera</td>\n",
       "    </tr>\n",
       "    <tr>\n",
       "      <th>49089</th>\n",
       "      <td>France</td>\n",
       "      <td>['ripe', 'round', 'strawberri', 'flavor', 'sur...</td>\n",
       "      <td>87</td>\n",
       "      <td>Pinot Noir</td>\n",
       "    </tr>\n",
       "    <tr>\n",
       "      <th>17932</th>\n",
       "      <td>Italy</td>\n",
       "      <td>['note', 'chop', 'star', 'anis', 'sage', 'whit...</td>\n",
       "      <td>90</td>\n",
       "      <td>Glera</td>\n",
       "    </tr>\n",
       "  </tbody>\n",
       "</table>\n",
       "</div>"
      ],
      "text/plain": [
       "         country                                        description  points  \\\n",
       "34444  Australia  ['despit', 'ampl', 'alcohol', 'level', 'soft',...      87   \n",
       "19737      Italy  ['love', 'cool-clim', 'pinot', 'grigio', 'woul...      88   \n",
       "27064      Italy  ['aroma', 'ripe', 'white', 'stone', 'fruit', '...      88   \n",
       "49089     France  ['ripe', 'round', 'strawberri', 'flavor', 'sur...      87   \n",
       "17932      Italy  ['note', 'chop', 'star', 'anis', 'sage', 'whit...      90   \n",
       "\n",
       "            variety  \n",
       "34444    Pinot Noir  \n",
       "19737  Pinot Grigio  \n",
       "27064         Glera  \n",
       "49089    Pinot Noir  \n",
       "17932         Glera  "
      ]
     },
     "execution_count": 16,
     "metadata": {},
     "output_type": "execute_result"
    }
   ],
   "source": [
    "data.head(5)"
   ]
  },
  {
   "cell_type": "code",
   "execution_count": 17,
   "metadata": {},
   "outputs": [
    {
     "data": {
      "text/plain": [
       "34444       Australia\n",
       "19737           Italy\n",
       "27064           Italy\n",
       "49089          France\n",
       "17932           Italy\n",
       "23476           Italy\n",
       "27348              US\n",
       "20802          France\n",
       "4987           France\n",
       "98855     New Zealand\n",
       "83803              US\n",
       "61281           Italy\n",
       "80984          France\n",
       "28029              US\n",
       "6182            Chile\n",
       "37411       Australia\n",
       "6697               US\n",
       "64699          France\n",
       "84525     New Zealand\n",
       "82740           Chile\n",
       "42131              US\n",
       "52178              US\n",
       "38040              US\n",
       "29756           Italy\n",
       "66566              US\n",
       "88780        Portugal\n",
       "45541    South Africa\n",
       "50960              US\n",
       "69736              US\n",
       "44943        Portugal\n",
       "39438              US\n",
       "80704              US\n",
       "31028              US\n",
       "50560              US\n",
       "29194           Italy\n",
       "69612           Spain\n",
       "95732              US\n",
       "26493       Argentina\n",
       "36798        Portugal\n",
       "75615              US\n",
       "49344              US\n",
       "16134              US\n",
       "90182           Italy\n",
       "7508               US\n",
       "86265              US\n",
       "35653     New Zealand\n",
       "74147              US\n",
       "87237          France\n",
       "62940              US\n",
       "9914               US\n",
       "Name: country, dtype: object"
      ]
     },
     "execution_count": 17,
     "metadata": {},
     "output_type": "execute_result"
    }
   ],
   "source": [
    "data['country'][:50]"
   ]
  },
  {
   "cell_type": "code",
   "execution_count": 18,
   "metadata": {},
   "outputs": [
    {
     "data": {
      "text/plain": [
       "34444                  Pinot Noir\n",
       "19737                Pinot Grigio\n",
       "27064                       Glera\n",
       "49089                  Pinot Noir\n",
       "17932                       Glera\n",
       "23476                    Nebbiolo\n",
       "27348             Sauvignon Blanc\n",
       "20802                    Riesling\n",
       "4987                   Chardonnay\n",
       "98855                  Pinot Noir\n",
       "83803             Sauvignon Blanc\n",
       "61281                    Nebbiolo\n",
       "80984                        Rosé\n",
       "28029                   Zinfandel\n",
       "6182                       Malbec\n",
       "37411                   Red Blend\n",
       "6697                        Syrah\n",
       "64699                  Chardonnay\n",
       "84525                  Pinot Noir\n",
       "82740             Sauvignon Blanc\n",
       "42131                   Red Blend\n",
       "52178          Cabernet Sauvignon\n",
       "38040                  Pinot Noir\n",
       "29756                  Sangiovese\n",
       "66566                  Pinot Noir\n",
       "88780                        Port\n",
       "45541                       Syrah\n",
       "50960                  Chardonnay\n",
       "69736                      Merlot\n",
       "44943              Portuguese Red\n",
       "39438                  Chardonnay\n",
       "80704                       Syrah\n",
       "31028                    Viognier\n",
       "50560                  Chardonnay\n",
       "29194                   Red Blend\n",
       "69612             Sparkling Blend\n",
       "95732                   Red Blend\n",
       "26493                   Red Blend\n",
       "36798              Portuguese Red\n",
       "75615                  Chardonnay\n",
       "49344                   Red Blend\n",
       "16134                       Syrah\n",
       "90182                  Sangiovese\n",
       "7508           Cabernet Sauvignon\n",
       "86265    Bordeaux-style Red Blend\n",
       "35653             Sauvignon Blanc\n",
       "74147       Rhône-style Red Blend\n",
       "87237                        Rosé\n",
       "62940                    Viognier\n",
       "9914                   Pinot Noir\n",
       "Name: variety, dtype: object"
      ]
     },
     "execution_count": 18,
     "metadata": {},
     "output_type": "execute_result"
    }
   ],
   "source": [
    "data['variety'][:50]"
   ]
  },
  {
   "cell_type": "code",
   "execution_count": 19,
   "metadata": {},
   "outputs": [
    {
     "data": {
      "text/plain": [
       "34444    ['despit', 'ampl', 'alcohol', 'level', 'soft',...\n",
       "19737    ['love', 'cool-clim', 'pinot', 'grigio', 'woul...\n",
       "27064    ['aroma', 'ripe', 'white', 'stone', 'fruit', '...\n",
       "49089    ['ripe', 'round', 'strawberri', 'flavor', 'sur...\n",
       "17932    ['note', 'chop', 'star', 'anis', 'sage', 'whit...\n",
       "23476    ['there', 'subdu', 'firm', 'qualiti', 'wine', ...\n",
       "27348    ['ripe', 'access', 'klipsun', 'vineyard', 'sau...\n",
       "20802    ['creamier', 'notion', 'ripe', 'appl', 'custar...\n",
       "4987     ['tight', 'crisp', 'initi', 'wine', 'open', 's...\n",
       "98855    ['slight', 'chunki', 'pinot', 'noir', 'sturdi'...\n",
       "83803         ['dri', 'acid', 'coars', 'that', 'unforgiv']\n",
       "61281    ['wine', 'begin', 'aroma', 'oak', 'coffe', 'be...\n",
       "80984    ['rich', 'soft', 'sweet', 'red', 'fruit', 'aci...\n",
       "28029    ['fruiti', 'simpl', 'lusti', 'made', 'barbecu'...\n",
       "6182     ['big', 'chunki', 'rubberi', 'loud', 'also', '...\n",
       "37411    ['impress', 'silki', 'price', 'blend', 'cabern...\n",
       "6697     ['5%', 'viognier', 'dens', 'layer', 'wine', 's...\n",
       "64699    ['rich', 'style', 'chabli', 'toasti', 'qualiti...\n",
       "84525    ['light', 'floral', 'style', 'pinot', 'noir', ...\n",
       "82740    ['bit', 'veget', 'nose', 'nectarin', 'aroma', ...\n",
       "42131    ['fruiti', 'littl', 'spici', 'medium-', 'full-...\n",
       "52178    ['pretti', 'good', 'cab', 'far', 'goe', 'tast'...\n",
       "38040    ['beauty—soft', 'round', 'burst', 'cherri', 'r...\n",
       "29756    ['rich', 'almost', 'point', 'chunky;', 'aroma'...\n",
       "66566    ['dri', 'strawberri', 'plum', 'iron', 'charact...\n",
       "Name: description, dtype: object"
      ]
     },
     "execution_count": 19,
     "metadata": {},
     "output_type": "execute_result"
    }
   ],
   "source": [
    "data['description'][:25]"
   ]
  },
  {
   "cell_type": "code",
   "execution_count": null,
   "metadata": {},
   "outputs": [],
   "source": []
  },
  {
   "cell_type": "markdown",
   "metadata": {},
   "source": [
    "Firstly the data must be split up into training and tests splits, a split of 80/20 is perfect for this. 80% of the data for training and 20% for testing. The size of our training set is 79156 rows and our testing set is 19790 Then we want to sperate the features to training features and testing features. I've named anything related to the training set = X and anything related to the testing set = Y."
   ]
  },
  {
   "cell_type": "code",
   "execution_count": 20,
   "metadata": {},
   "outputs": [
    {
     "name": "stdout",
     "output_type": "stream",
     "text": [
      "Train size: 79156\n",
      "Test size: 19790\n"
     ]
    }
   ],
   "source": [
    "trainsplit = int(len(data) * .8)\n",
    "print (\"Train size: %d\" % trainsplit)\n",
    "print (\"Test size: %d\" % (len(data) - trainsplit))\n",
    "\n",
    "\n",
    "description_x = data['description'][:trainsplit]\n",
    "variety_x = data['variety'][:trainsplit]\n",
    "country_x = data['country'][:trainsplit]\n",
    "points_x = data['points'][:trainsplit]\n",
    "description_y = data['description'][trainsplit:]\n",
    "variety_y = data['variety'][trainsplit:]\n",
    "country_y = data['country'][trainsplit:]\n",
    "points_y = data['points'][trainsplit:]\n"
   ]
  },
  {
   "cell_type": "markdown",
   "metadata": {},
   "source": [
    "Next we want to use the Keras functional API to help create a tokenizer that will help create the bag of words."
   ]
  },
  {
   "cell_type": "code",
   "execution_count": 21,
   "metadata": {},
   "outputs": [],
   "source": [
    "vocab_size = 20000\n",
    "tokenize = keras.preprocessing.text.Tokenizer(num_words=vocab_size, char_level=False)\n",
    "with open('tokenizer.pickle', 'wb') as handle:\n",
    "    pickle.dump(tokenize, handle, protocol=pickle.HIGHEST_PROTOCOL)\n",
    "tokenize.fit_on_texts(description_x)\n",
    "BOW_x = tokenize.texts_to_matrix(description_x)\n",
    "BOW_y = tokenize.texts_to_matrix(description_y)"
   ]
  },
  {
   "cell_type": "markdown",
   "metadata": {},
   "source": [
    "Here we can view the difference in the difference in the description before and after the bag of words was implemented.\n",
    "\n",
    "My dissertation goes through how this works in detail!\n"
   ]
  },
  {
   "cell_type": "code",
   "execution_count": 22,
   "metadata": {},
   "outputs": [
    {
     "name": "stdout",
     "output_type": "stream",
     "text": [
      "34444    ['despit', 'ampl', 'alcohol', 'level', 'soft',...\n",
      "19737    ['love', 'cool-clim', 'pinot', 'grigio', 'woul...\n",
      "Name: description, dtype: object\n"
     ]
    }
   ],
   "source": [
    "print(data['description'][:2])"
   ]
  },
  {
   "cell_type": "code",
   "execution_count": 23,
   "metadata": {},
   "outputs": [
    {
     "name": "stdout",
     "output_type": "stream",
     "text": [
      "[[0. 1. 1. ... 0. 0. 0.]\n",
      " [0. 1. 0. ... 0. 0. 0.]]\n"
     ]
    }
   ],
   "source": [
    "print(BOW_x[0:2])"
   ]
  },
  {
   "cell_type": "markdown",
   "metadata": {},
   "source": [
    "Next we have to fit the label encoder which will encode our variety and country columns both in the traning and testing set.\n",
    "\n",
    "num_classes variable defines the shape of the input array.\n",
    "\n",
    "Then we have to use the Keras utils.to_categorical to One-Hot-Encode them so that they can go into out deep model.\n",
    "\n",
    "This is also explained in the dissertation.\n"
   ]
  },
  {
   "cell_type": "code",
   "execution_count": 24,
   "metadata": {},
   "outputs": [],
   "source": [
    "label_encoding = LabelEncoder()\n",
    "label_encoding.fit(variety_x)\n",
    "variety_x = label_encoding.transform(variety_x)\n",
    "variety_y = label_encoding.transform(variety_y)\n",
    "num_classes = np.max(variety_x) + 1\n",
    "label_encoding.fit(country_x)\n",
    "country_x = label_encoding.transform(country_x)\n",
    "country_y = label_encoding.transform(country_y)\n",
    "num_classes_1 = np.max(country_x) + 1\n",
    "variety_x = keras.utils.to_categorical(variety_x, num_classes)\n",
    "variety_y = keras.utils.to_categorical(variety_y, num_classes)\n",
    "country_x = keras.utils.to_categorical(country_x, num_classes_1)\n",
    "country_y = keras.utils.to_categorical(country_y, num_classes_1)\n",
    "\n",
    "\n"
   ]
  },
  {
   "cell_type": "markdown",
   "metadata": {},
   "source": [
    "Next we can view the difference between the variety/country from the one-hot encoded versions."
   ]
  },
  {
   "cell_type": "code",
   "execution_count": 25,
   "metadata": {},
   "outputs": [
    {
     "name": "stdout",
     "output_type": "stream",
     "text": [
      "34444         Pinot Noir\n",
      "19737       Pinot Grigio\n",
      "27064              Glera\n",
      "49089         Pinot Noir\n",
      "17932              Glera\n",
      "23476           Nebbiolo\n",
      "27348    Sauvignon Blanc\n",
      "Name: variety, dtype: object\n"
     ]
    }
   ],
   "source": [
    "print(data['variety'][:7])"
   ]
  },
  {
   "cell_type": "code",
   "execution_count": 26,
   "metadata": {},
   "outputs": [
    {
     "name": "stdout",
     "output_type": "stream",
     "text": [
      "[[0. 0. 0. 0. 0. 0. 0. 0. 0. 0. 0. 0. 0. 0. 0. 0. 0. 1. 0. 0. 0. 0. 0. 0.\n",
      "  0. 0. 0. 0. 0. 0. 0. 0. 0. 0. 0.]\n",
      " [0. 0. 0. 0. 0. 0. 0. 0. 0. 0. 0. 0. 0. 0. 0. 1. 0. 0. 0. 0. 0. 0. 0. 0.\n",
      "  0. 0. 0. 0. 0. 0. 0. 0. 0. 0. 0.]\n",
      " [0. 0. 0. 0. 0. 0. 0. 0. 0. 1. 0. 0. 0. 0. 0. 0. 0. 0. 0. 0. 0. 0. 0. 0.\n",
      "  0. 0. 0. 0. 0. 0. 0. 0. 0. 0. 0.]\n",
      " [0. 0. 0. 0. 0. 0. 0. 0. 0. 0. 0. 0. 0. 0. 0. 0. 0. 1. 0. 0. 0. 0. 0. 0.\n",
      "  0. 0. 0. 0. 0. 0. 0. 0. 0. 0. 0.]\n",
      " [0. 0. 0. 0. 0. 0. 0. 0. 0. 1. 0. 0. 0. 0. 0. 0. 0. 0. 0. 0. 0. 0. 0. 0.\n",
      "  0. 0. 0. 0. 0. 0. 0. 0. 0. 0. 0.]\n",
      " [0. 0. 0. 0. 0. 0. 0. 0. 0. 0. 0. 0. 0. 1. 0. 0. 0. 0. 0. 0. 0. 0. 0. 0.\n",
      "  0. 0. 0. 0. 0. 0. 0. 0. 0. 0. 0.]\n",
      " [0. 0. 0. 0. 0. 0. 0. 0. 0. 0. 0. 0. 0. 0. 0. 0. 0. 0. 0. 0. 0. 0. 0. 0.\n",
      "  0. 0. 0. 1. 0. 0. 0. 0. 0. 0. 0.]]\n"
     ]
    }
   ],
   "source": [
    "print(variety_x[:7])"
   ]
  },
  {
   "cell_type": "code",
   "execution_count": 27,
   "metadata": {},
   "outputs": [
    {
     "name": "stdout",
     "output_type": "stream",
     "text": [
      "34444    Australia\n",
      "19737        Italy\n",
      "27064        Italy\n",
      "49089       France\n",
      "17932        Italy\n",
      "23476        Italy\n",
      "27348           US\n",
      "Name: country, dtype: object\n"
     ]
    }
   ],
   "source": [
    "print(data['country'][:7])"
   ]
  },
  {
   "cell_type": "code",
   "execution_count": 28,
   "metadata": {},
   "outputs": [
    {
     "name": "stdout",
     "output_type": "stream",
     "text": [
      "[[0. 1. 0. 0. 0. 0. 0. 0. 0. 0. 0. 0.]\n",
      " [0. 0. 0. 0. 0. 0. 1. 0. 0. 0. 0. 0.]\n",
      " [0. 0. 0. 0. 0. 0. 1. 0. 0. 0. 0. 0.]\n",
      " [0. 0. 0. 0. 1. 0. 0. 0. 0. 0. 0. 0.]\n",
      " [0. 0. 0. 0. 0. 0. 1. 0. 0. 0. 0. 0.]\n",
      " [0. 0. 0. 0. 0. 0. 1. 0. 0. 0. 0. 0.]\n",
      " [0. 0. 0. 0. 0. 0. 0. 0. 0. 0. 0. 1.]]\n"
     ]
    }
   ],
   "source": [
    "print(country_x[:7])"
   ]
  },
  {
   "cell_type": "markdown",
   "metadata": {},
   "source": [
    "Now we can create our wide model, with the help of the Keras functional API."
   ]
  },
  {
   "cell_type": "markdown",
   "metadata": {},
   "source": [
    "We have to create the layers of our wide network. The size of the layers will be relavent to our previous sections. The vocab size of the bag of words, the num_classes for the variety and num_classess_1 for country.\n",
    "\n",
    "The we concatenate the layers and chain them to make the wide model."
   ]
  },
  {
   "cell_type": "code",
   "execution_count": 29,
   "metadata": {},
   "outputs": [
    {
     "name": "stdout",
     "output_type": "stream",
     "text": [
      "WARNING:tensorflow:From /Users/davidoneill/anaconda3/lib/python3.6/site-packages/tensorflow/python/ops/resource_variable_ops.py:435: colocate_with (from tensorflow.python.framework.ops) is deprecated and will be removed in a future version.\n",
      "Instructions for updating:\n",
      "Colocations handled automatically by placer.\n"
     ]
    }
   ],
   "source": [
    "BOW = layers.Input(shape=(vocab_size,))\n",
    "variety = layers.Input(shape=(num_classes,))\n",
    "country = layers.Input(shape=(num_classes_1,))\n",
    "joined_layers = layers.concatenate([BOW, variety, country])\n",
    "joined_layers = layers.Dense(256, activation='relu')(joined_layers)\n",
    "predictions = layers.Dense(1)(joined_layers)\n",
    "wide_model = keras.Model(inputs=[BOW, variety, country], outputs=predictions)"
   ]
  },
  {
   "cell_type": "code",
   "execution_count": 30,
   "metadata": {},
   "outputs": [
    {
     "name": "stdout",
     "output_type": "stream",
     "text": [
      "WARNING:tensorflow:From /Users/davidoneill/anaconda3/lib/python3.6/site-packages/tensorflow/python/keras/utils/losses_utils.py:170: to_float (from tensorflow.python.ops.math_ops) is deprecated and will be removed in a future version.\n",
      "Instructions for updating:\n",
      "Use tf.cast instead.\n",
      "__________________________________________________________________________________________________\n",
      "Layer (type)                    Output Shape         Param #     Connected to                     \n",
      "==================================================================================================\n",
      "input_1 (InputLayer)            (None, 20000)        0                                            \n",
      "__________________________________________________________________________________________________\n",
      "input_2 (InputLayer)            (None, 35)           0                                            \n",
      "__________________________________________________________________________________________________\n",
      "input_3 (InputLayer)            (None, 12)           0                                            \n",
      "__________________________________________________________________________________________________\n",
      "concatenate (Concatenate)       (None, 20047)        0           input_1[0][0]                    \n",
      "                                                                 input_2[0][0]                    \n",
      "                                                                 input_3[0][0]                    \n",
      "__________________________________________________________________________________________________\n",
      "dense (Dense)                   (None, 256)          5132288     concatenate[0][0]                \n",
      "__________________________________________________________________________________________________\n",
      "dense_1 (Dense)                 (None, 1)            257         dense[0][0]                      \n",
      "==================================================================================================\n",
      "Total params: 5,132,545\n",
      "Trainable params: 5,132,545\n",
      "Non-trainable params: 0\n",
      "__________________________________________________________________________________________________\n",
      "None\n"
     ]
    }
   ],
   "source": [
    "wide_model.compile(loss='mse', optimizer='adam', metrics=['mae'])\n",
    "print(wide_model.summary())"
   ]
  },
  {
   "cell_type": "markdown",
   "metadata": {},
   "source": [
    "now we can create our deep network. We have to use the keras functional API to get a word embedding which we will use on the description.\n",
    "\n"
   ]
  },
  {
   "cell_type": "code",
   "execution_count": 31,
   "metadata": {},
   "outputs": [],
   "source": [
    "embedded_x = tokenize.texts_to_sequences(description_x)\n",
    "embedded_y = tokenize.texts_to_sequences(description_y)\n",
    "\n",
    "max_seq_length = 170\n",
    "embedded_x = keras.preprocessing.sequence.pad_sequences(\n",
    "    embedded_x, maxlen=max_seq_length, padding=\"post\")\n",
    "embedded_y = keras.preprocessing.sequence.pad_sequences(\n",
    "    embedded_y, maxlen=max_seq_length, padding=\"post\")"
   ]
  },
  {
   "cell_type": "markdown",
   "metadata": {},
   "source": [
    "Here we can see what the word embedding looks like. This is the second description in the set against the word embedding."
   ]
  },
  {
   "cell_type": "code",
   "execution_count": 64,
   "metadata": {},
   "outputs": [
    {
     "name": "stdout",
     "output_type": "stream",
     "text": [
      "[ 247  865  797   70  794  370  251 2269 4304 3566   31   36    1   99\n",
      "   53  216    3  143    0    0    0    0    0    0    0    0    0    0\n",
      "    0    0    0    0    0    0    0    0    0    0    0    0    0    0\n",
      "    0    0    0    0    0    0    0    0    0    0    0    0    0    0\n",
      "    0    0    0    0    0    0    0    0    0    0    0    0    0    0\n",
      "    0    0    0    0    0    0    0    0    0    0    0    0    0    0\n",
      "    0    0    0    0    0    0    0    0    0    0    0    0    0    0\n",
      "    0    0    0    0    0    0    0    0    0    0    0    0    0    0\n",
      "    0    0    0    0    0    0    0    0    0    0    0    0    0    0\n",
      "    0    0    0    0    0    0    0    0    0    0    0    0    0    0\n",
      "    0    0    0    0    0    0    0    0    0    0    0    0    0    0\n",
      "    0    0    0    0    0    0    0    0    0    0    0    0    0    0\n",
      "    0    0]\n"
     ]
    }
   ],
   "source": [
    "print(embedded_x[1])"
   ]
  },
  {
   "cell_type": "markdown",
   "metadata": {},
   "source": [
    "Then we create the layers of the model like before."
   ]
  },
  {
   "cell_type": "code",
   "execution_count": null,
   "metadata": {},
   "outputs": [],
   "source": []
  },
  {
   "cell_type": "code",
   "execution_count": 33,
   "metadata": {},
   "outputs": [],
   "source": [
    "deep_description = layers.Input(shape=(max_seq_length,))\n",
    "embedding = layers.Embedding(vocab_size, 8, input_length=max_seq_length)(deep_description)\n",
    "embedding = layers.Flatten()(embedding)\n",
    "embedded_out = layers.Dense(1)(embedding)\n",
    "deep_model = keras.Model(inputs=deep_description, outputs=embedded_out)"
   ]
  },
  {
   "cell_type": "code",
   "execution_count": 34,
   "metadata": {},
   "outputs": [
    {
     "name": "stdout",
     "output_type": "stream",
     "text": [
      "_________________________________________________________________\n",
      "Layer (type)                 Output Shape              Param #   \n",
      "=================================================================\n",
      "input_4 (InputLayer)         (None, 170)               0         \n",
      "_________________________________________________________________\n",
      "embedding (Embedding)        (None, 170, 8)            160000    \n",
      "_________________________________________________________________\n",
      "flatten (Flatten)            (None, 1360)              0         \n",
      "_________________________________________________________________\n",
      "dense_2 (Dense)              (None, 1)                 1361      \n",
      "=================================================================\n",
      "Total params: 161,361\n",
      "Trainable params: 161,361\n",
      "Non-trainable params: 0\n",
      "_________________________________________________________________\n",
      "None\n"
     ]
    }
   ],
   "source": [
    "deep_model.compile(loss='mse', optimizer='adam', metrics=['mae'])\n",
    "print(deep_model.summary())"
   ]
  },
  {
   "cell_type": "markdown",
   "metadata": {},
   "source": [
    "Now we have to concatenate the two models together to make the Wide & Deep Network."
   ]
  },
  {
   "cell_type": "code",
   "execution_count": 35,
   "metadata": {},
   "outputs": [
    {
     "name": "stdout",
     "output_type": "stream",
     "text": [
      "__________________________________________________________________________________________________\n",
      "Layer (type)                    Output Shape         Param #     Connected to                     \n",
      "==================================================================================================\n",
      "input_1 (InputLayer)            (None, 20000)        0                                            \n",
      "__________________________________________________________________________________________________\n",
      "input_2 (InputLayer)            (None, 35)           0                                            \n",
      "__________________________________________________________________________________________________\n",
      "input_3 (InputLayer)            (None, 12)           0                                            \n",
      "__________________________________________________________________________________________________\n",
      "input_4 (InputLayer)            (None, 170)          0                                            \n",
      "__________________________________________________________________________________________________\n",
      "concatenate (Concatenate)       (None, 20047)        0           input_1[0][0]                    \n",
      "                                                                 input_2[0][0]                    \n",
      "                                                                 input_3[0][0]                    \n",
      "__________________________________________________________________________________________________\n",
      "embedding (Embedding)           (None, 170, 8)       160000      input_4[0][0]                    \n",
      "__________________________________________________________________________________________________\n",
      "dense (Dense)                   (None, 256)          5132288     concatenate[0][0]                \n",
      "__________________________________________________________________________________________________\n",
      "flatten (Flatten)               (None, 1360)         0           embedding[0][0]                  \n",
      "__________________________________________________________________________________________________\n",
      "dense_1 (Dense)                 (None, 1)            257         dense[0][0]                      \n",
      "__________________________________________________________________________________________________\n",
      "dense_2 (Dense)                 (None, 1)            1361        flatten[0][0]                    \n",
      "__________________________________________________________________________________________________\n",
      "concatenate_1 (Concatenate)     (None, 2)            0           dense_1[0][0]                    \n",
      "                                                                 dense_2[0][0]                    \n",
      "__________________________________________________________________________________________________\n",
      "dense_3 (Dense)                 (None, 1)            3           concatenate_1[0][0]              \n",
      "==================================================================================================\n",
      "Total params: 5,293,909\n",
      "Trainable params: 5,293,909\n",
      "Non-trainable params: 0\n",
      "__________________________________________________________________________________________________\n",
      "None\n"
     ]
    }
   ],
   "source": [
    "joined_out = layers.concatenate([wide_model.output, deep_model.output])\n",
    "joined_out = layers.Dense(1)(joined_out)\n",
    "wide_deep_model = keras.Model(wide_model.input + [deep_model.input], joined_out)\n",
    "wide_deep_model.compile(loss='mse', optimizer='adam', metrics=['mae'])\n",
    "print(wide_deep_model.summary())"
   ]
  },
  {
   "cell_type": "code",
   "execution_count": 36,
   "metadata": {},
   "outputs": [
    {
     "name": "stdout",
     "output_type": "stream",
     "text": [
      "WARNING:tensorflow:From /Users/davidoneill/anaconda3/lib/python3.6/site-packages/tensorflow/python/ops/math_ops.py:3066: to_int32 (from tensorflow.python.ops.math_ops) is deprecated and will be removed in a future version.\n",
      "Instructions for updating:\n",
      "Use tf.cast instead.\n",
      "Epoch 1/10\n",
      "79156/79156 [==============================] - 80s 1ms/sample - loss: 950.7737 - mean_absolute_error: 15.9425 - acc: 0.0000e+00\n",
      "Epoch 2/10\n",
      "79156/79156 [==============================] - 80s 1ms/sample - loss: 7.2363 - mean_absolute_error: 2.1085 - acc: 0.0000e+00\n",
      "Epoch 3/10\n",
      "79156/79156 [==============================] - 85s 1ms/sample - loss: 4.1341 - mean_absolute_error: 1.6025 - acc: 0.0000e+00\n",
      "Epoch 4/10\n",
      "79156/79156 [==============================] - 85s 1ms/sample - loss: 3.2180 - mean_absolute_error: 1.4125 - acc: 0.0000e+00\n",
      "Epoch 5/10\n",
      "79156/79156 [==============================] - 85s 1ms/sample - loss: 2.7787 - mean_absolute_error: 1.3096 - acc: 0.0000e+00\n",
      "Epoch 6/10\n",
      "79156/79156 [==============================] - 86s 1ms/sample - loss: 2.4843 - mean_absolute_error: 1.2338 - acc: 0.0000e+006s - loss: 2.475\n",
      "Epoch 7/10\n",
      "79156/79156 [==============================] - 85s 1ms/sample - loss: 2.2658 - mean_absolute_error: 1.1748 - acc: 0.0000e+00\n",
      "Epoch 8/10\n",
      "79156/79156 [==============================] - 86s 1ms/sample - loss: 2.1008 - mean_absolute_error: 1.1286 - acc: 0.0000e+00\n",
      "Epoch 9/10\n",
      "79156/79156 [==============================] - 86s 1ms/sample - loss: 1.9572 - mean_absolute_error: 1.0861 - acc: 0.0000e+00\n",
      "Epoch 10/10\n",
      "79156/79156 [==============================] - 86s 1ms/sample - loss: 1.8218 - mean_absolute_error: 1.0449 - acc: 0.0000e+00\n"
     ]
    },
    {
     "data": {
      "text/plain": [
       "<tensorflow.python.keras.callbacks.History at 0x1a2b651550>"
      ]
     },
     "execution_count": 36,
     "metadata": {},
     "output_type": "execute_result"
    }
   ],
   "source": [
    "wide_deep_model.fit([BOW_x, variety_x, country_x] + [embedded_x], points_x, epochs=10, batch_size=128)\n",
    "\n"
   ]
  },
  {
   "cell_type": "code",
   "execution_count": 38,
   "metadata": {},
   "outputs": [
    {
     "name": "stdout",
     "output_type": "stream",
     "text": [
      "19790/19790 [==============================] - 11s 543us/sample - loss: 2.9921 - mean_absolute_error: 1.3626 - acc: 0.0000e+00\n"
     ]
    },
    {
     "data": {
      "text/plain": [
       "[2.992117609093441, 1.362646, 0.0]"
      ]
     },
     "execution_count": 38,
     "metadata": {},
     "output_type": "execute_result"
    }
   ],
   "source": [
    "wide_deep_model.evaluate([BOW_y, variety_y, country_y] + [embedded_y], points_y, batch_size=128)"
   ]
  },
  {
   "cell_type": "code",
   "execution_count": 39,
   "metadata": {},
   "outputs": [],
   "source": [
    "predictions = wide_deep_model.predict([BOW_y, variety_y, country_y] + [embedded_y])"
   ]
  },
  {
   "cell_type": "code",
   "execution_count": 71,
   "metadata": {
    "scrolled": true
   },
   "outputs": [
    {
     "data": {
      "application/vnd.jupyter.widget-view+json": {
       "model_id": "269cfdad078b45d7936221d4ec19284d",
       "version_major": 2,
       "version_minor": 0
      },
      "text/plain": [
       "interactive(children=(IntSlider(value=1, description='Amount of predictions', max=25, min=1), Output()), _dom_…"
      ]
     },
     "metadata": {},
     "output_type": "display_data"
    },
    {
     "data": {
      "text/plain": [
       "<function __main__.evaluate(prediciton_set)>"
      ]
     },
     "execution_count": 71,
     "metadata": {},
     "output_type": "execute_result"
    }
   ],
   "source": [
    "prediciton_set = 50\n",
    "def evaluate(prediciton_set):\n",
    "    diff = 0\n",
    "    for i in range(prediciton_set):\n",
    "        val = predictions[i]\n",
    "        print('[{} - {}] '.format(i+1, description_y.iloc[i]))\n",
    "        print('Predicted: ', val[0], 'Actual: ', points_y.iloc[i], '\\n')\n",
    "        diff += abs(val[0] - points_y.iloc[i])\n",
    "        print('Average prediction difference: ', diff / prediciton_set)\n",
    "\n",
    "        \n",
    "\n",
    "interact(evaluate, prediciton_set=widgets.IntSlider(value=1, min=1, max=25, description='Amount of predictions'))\n",
    "\n",
    "\n",
    "\n"
   ]
  },
  {
   "cell_type": "code",
   "execution_count": 49,
   "metadata": {},
   "outputs": [],
   "source": [
    "wide_deep_model.save('fyp_model.h5')"
   ]
  },
  {
   "cell_type": "code",
   "execution_count": null,
   "metadata": {},
   "outputs": [],
   "source": []
  }
 ],
 "metadata": {
  "kernelspec": {
   "display_name": "Python 3",
   "language": "python",
   "name": "python3"
  },
  "language_info": {
   "codemirror_mode": {
    "name": "ipython",
    "version": 3
   },
   "file_extension": ".py",
   "mimetype": "text/x-python",
   "name": "python",
   "nbconvert_exporter": "python",
   "pygments_lexer": "ipython3",
   "version": "3.6.5"
  }
 },
 "nbformat": 4,
 "nbformat_minor": 2
}
